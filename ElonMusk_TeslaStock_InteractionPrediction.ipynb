{
 "cells": [
  {
   "cell_type": "markdown",
   "id": "132e8ea4-9ee9-4c56-90f9-8d69ebc209b0",
   "metadata": {
    "tags": []
   },
   "source": [
    "# Tesla Stock Market prediction based on Elon Musk Tweet Interaction"
   ]
  },
  {
   "cell_type": "code",
   "execution_count": 1,
   "id": "ec2269a2-7e48-4d5a-a4e3-8a97e89ae6ab",
   "metadata": {
    "tags": []
   },
   "outputs": [],
   "source": [
    "import pandas as pd\n",
    "from pandas import DataFrame\n",
    "import matplotlib.pyplot as plt"
   ]
  },
  {
   "cell_type": "code",
   "execution_count": 2,
   "id": "c6187f7c-31dd-4179-bc1d-d77418610961",
   "metadata": {
    "tags": []
   },
   "outputs": [],
   "source": [
    "tesla_stock_data = pd.read_csv(\"TSLA.csv\")\n",
    "elon_tweets_data = pd.read_csv(\"TweetsElonMusk.csv\")"
   ]
  },
  {
   "cell_type": "markdown",
   "id": "605482a4-cf58-4f16-be9b-f1e3899d70ec",
   "metadata": {
    "tags": []
   },
   "source": [
    "## Describing Datasets"
   ]
  },
  {
   "cell_type": "markdown",
   "id": "e02d2812-f733-4c6a-9d17-dd7dc18c220f",
   "metadata": {},
   "source": [
    "### Tesla Data"
   ]
  },
  {
   "cell_type": "code",
   "execution_count": 3,
   "id": "148006e2-16d8-4ecd-87e2-d760f9d2faaf",
   "metadata": {
    "tags": []
   },
   "outputs": [
    {
     "data": {
      "text/html": [
       "<div>\n",
       "<style scoped>\n",
       "    .dataframe tbody tr th:only-of-type {\n",
       "        vertical-align: middle;\n",
       "    }\n",
       "\n",
       "    .dataframe tbody tr th {\n",
       "        vertical-align: top;\n",
       "    }\n",
       "\n",
       "    .dataframe thead th {\n",
       "        text-align: right;\n",
       "    }\n",
       "</style>\n",
       "<table border=\"1\" class=\"dataframe\">\n",
       "  <thead>\n",
       "    <tr style=\"text-align: right;\">\n",
       "      <th></th>\n",
       "      <th>Open</th>\n",
       "      <th>High</th>\n",
       "      <th>Low</th>\n",
       "      <th>Close</th>\n",
       "      <th>Adj Close</th>\n",
       "      <th>Volume</th>\n",
       "    </tr>\n",
       "  </thead>\n",
       "  <tbody>\n",
       "    <tr>\n",
       "      <th>count</th>\n",
       "      <td>2956.000000</td>\n",
       "      <td>2956.000000</td>\n",
       "      <td>2956.000000</td>\n",
       "      <td>2956.000000</td>\n",
       "      <td>2956.000000</td>\n",
       "      <td>2.956000e+03</td>\n",
       "    </tr>\n",
       "    <tr>\n",
       "      <th>mean</th>\n",
       "      <td>138.691296</td>\n",
       "      <td>141.771603</td>\n",
       "      <td>135.425953</td>\n",
       "      <td>138.762183</td>\n",
       "      <td>138.762183</td>\n",
       "      <td>3.131449e+07</td>\n",
       "    </tr>\n",
       "    <tr>\n",
       "      <th>std</th>\n",
       "      <td>250.044839</td>\n",
       "      <td>255.863239</td>\n",
       "      <td>243.774157</td>\n",
       "      <td>250.123115</td>\n",
       "      <td>250.123115</td>\n",
       "      <td>2.798383e+07</td>\n",
       "    </tr>\n",
       "    <tr>\n",
       "      <th>min</th>\n",
       "      <td>3.228000</td>\n",
       "      <td>3.326000</td>\n",
       "      <td>2.996000</td>\n",
       "      <td>3.160000</td>\n",
       "      <td>3.160000</td>\n",
       "      <td>5.925000e+05</td>\n",
       "    </tr>\n",
       "    <tr>\n",
       "      <th>25%</th>\n",
       "      <td>19.627000</td>\n",
       "      <td>20.402000</td>\n",
       "      <td>19.127500</td>\n",
       "      <td>19.615000</td>\n",
       "      <td>19.615000</td>\n",
       "      <td>1.310288e+07</td>\n",
       "    </tr>\n",
       "    <tr>\n",
       "      <th>50%</th>\n",
       "      <td>46.656999</td>\n",
       "      <td>47.487001</td>\n",
       "      <td>45.820002</td>\n",
       "      <td>46.545000</td>\n",
       "      <td>46.545000</td>\n",
       "      <td>2.488680e+07</td>\n",
       "    </tr>\n",
       "    <tr>\n",
       "      <th>75%</th>\n",
       "      <td>68.057001</td>\n",
       "      <td>69.357500</td>\n",
       "      <td>66.911501</td>\n",
       "      <td>68.103998</td>\n",
       "      <td>68.103998</td>\n",
       "      <td>3.973875e+07</td>\n",
       "    </tr>\n",
       "    <tr>\n",
       "      <th>max</th>\n",
       "      <td>1234.410034</td>\n",
       "      <td>1243.489990</td>\n",
       "      <td>1217.000000</td>\n",
       "      <td>1229.910034</td>\n",
       "      <td>1229.910034</td>\n",
       "      <td>3.046940e+08</td>\n",
       "    </tr>\n",
       "  </tbody>\n",
       "</table>\n",
       "</div>"
      ],
      "text/plain": [
       "              Open         High          Low        Close    Adj Close  \\\n",
       "count  2956.000000  2956.000000  2956.000000  2956.000000  2956.000000   \n",
       "mean    138.691296   141.771603   135.425953   138.762183   138.762183   \n",
       "std     250.044839   255.863239   243.774157   250.123115   250.123115   \n",
       "min       3.228000     3.326000     2.996000     3.160000     3.160000   \n",
       "25%      19.627000    20.402000    19.127500    19.615000    19.615000   \n",
       "50%      46.656999    47.487001    45.820002    46.545000    46.545000   \n",
       "75%      68.057001    69.357500    66.911501    68.103998    68.103998   \n",
       "max    1234.410034  1243.489990  1217.000000  1229.910034  1229.910034   \n",
       "\n",
       "             Volume  \n",
       "count  2.956000e+03  \n",
       "mean   3.131449e+07  \n",
       "std    2.798383e+07  \n",
       "min    5.925000e+05  \n",
       "25%    1.310288e+07  \n",
       "50%    2.488680e+07  \n",
       "75%    3.973875e+07  \n",
       "max    3.046940e+08  "
      ]
     },
     "execution_count": 3,
     "metadata": {},
     "output_type": "execute_result"
    }
   ],
   "source": [
    "tesla_stock_data.describe()"
   ]
  },
  {
   "cell_type": "markdown",
   "id": "1cd225eb-f3aa-41d7-9bad-1fd500d68fe7",
   "metadata": {},
   "source": [
    "### Elon Musk Data"
   ]
  },
  {
   "cell_type": "code",
   "execution_count": 4,
   "id": "0e0e3f97-6b6f-4cf5-b8fb-e0f73961f5d3",
   "metadata": {
    "tags": []
   },
   "outputs": [
    {
     "data": {
      "text/html": [
       "<div>\n",
       "<style scoped>\n",
       "    .dataframe tbody tr th:only-of-type {\n",
       "        vertical-align: middle;\n",
       "    }\n",
       "\n",
       "    .dataframe tbody tr th {\n",
       "        vertical-align: top;\n",
       "    }\n",
       "\n",
       "    .dataframe thead th {\n",
       "        text-align: right;\n",
       "    }\n",
       "</style>\n",
       "<table border=\"1\" class=\"dataframe\">\n",
       "  <thead>\n",
       "    <tr style=\"text-align: right;\">\n",
       "      <th></th>\n",
       "      <th>id</th>\n",
       "      <th>conversation_id</th>\n",
       "      <th>timezone</th>\n",
       "      <th>user_id</th>\n",
       "      <th>place</th>\n",
       "      <th>replies_count</th>\n",
       "      <th>retweets_count</th>\n",
       "      <th>likes_count</th>\n",
       "      <th>video</th>\n",
       "      <th>near</th>\n",
       "      <th>geo</th>\n",
       "      <th>source</th>\n",
       "      <th>user_rt_id</th>\n",
       "      <th>user_rt</th>\n",
       "      <th>retweet_id</th>\n",
       "      <th>retweet_date</th>\n",
       "      <th>translate</th>\n",
       "      <th>trans_src</th>\n",
       "      <th>trans_dest</th>\n",
       "    </tr>\n",
       "  </thead>\n",
       "  <tbody>\n",
       "    <tr>\n",
       "      <th>count</th>\n",
       "      <td>1.256200e+04</td>\n",
       "      <td>1.256200e+04</td>\n",
       "      <td>12562.0</td>\n",
       "      <td>12562.0</td>\n",
       "      <td>0.0</td>\n",
       "      <td>12562.000000</td>\n",
       "      <td>12562.000000</td>\n",
       "      <td>1.256200e+04</td>\n",
       "      <td>12562.000000</td>\n",
       "      <td>0.0</td>\n",
       "      <td>0.0</td>\n",
       "      <td>0.0</td>\n",
       "      <td>0.0</td>\n",
       "      <td>0.0</td>\n",
       "      <td>0.0</td>\n",
       "      <td>0.0</td>\n",
       "      <td>0.0</td>\n",
       "      <td>0.0</td>\n",
       "      <td>0.0</td>\n",
       "    </tr>\n",
       "    <tr>\n",
       "      <th>mean</th>\n",
       "      <td>1.049919e+18</td>\n",
       "      <td>1.047490e+18</td>\n",
       "      <td>300.0</td>\n",
       "      <td>44196397.0</td>\n",
       "      <td>NaN</td>\n",
       "      <td>679.370005</td>\n",
       "      <td>2256.727193</td>\n",
       "      <td>2.147006e+04</td>\n",
       "      <td>0.063047</td>\n",
       "      <td>NaN</td>\n",
       "      <td>NaN</td>\n",
       "      <td>NaN</td>\n",
       "      <td>NaN</td>\n",
       "      <td>NaN</td>\n",
       "      <td>NaN</td>\n",
       "      <td>NaN</td>\n",
       "      <td>NaN</td>\n",
       "      <td>NaN</td>\n",
       "      <td>NaN</td>\n",
       "    </tr>\n",
       "    <tr>\n",
       "      <th>std</th>\n",
       "      <td>2.761981e+17</td>\n",
       "      <td>2.783202e+17</td>\n",
       "      <td>0.0</td>\n",
       "      <td>0.0</td>\n",
       "      <td>NaN</td>\n",
       "      <td>2453.853763</td>\n",
       "      <td>9793.382524</td>\n",
       "      <td>6.727787e+04</td>\n",
       "      <td>0.243058</td>\n",
       "      <td>NaN</td>\n",
       "      <td>NaN</td>\n",
       "      <td>NaN</td>\n",
       "      <td>NaN</td>\n",
       "      <td>NaN</td>\n",
       "      <td>NaN</td>\n",
       "      <td>NaN</td>\n",
       "      <td>NaN</td>\n",
       "      <td>NaN</td>\n",
       "      <td>NaN</td>\n",
       "    </tr>\n",
       "    <tr>\n",
       "      <th>min</th>\n",
       "      <td>1.543473e+10</td>\n",
       "      <td>1.659576e+09</td>\n",
       "      <td>300.0</td>\n",
       "      <td>44196397.0</td>\n",
       "      <td>NaN</td>\n",
       "      <td>0.000000</td>\n",
       "      <td>0.000000</td>\n",
       "      <td>2.000000e+00</td>\n",
       "      <td>0.000000</td>\n",
       "      <td>NaN</td>\n",
       "      <td>NaN</td>\n",
       "      <td>NaN</td>\n",
       "      <td>NaN</td>\n",
       "      <td>NaN</td>\n",
       "      <td>NaN</td>\n",
       "      <td>NaN</td>\n",
       "      <td>NaN</td>\n",
       "      <td>NaN</td>\n",
       "      <td>NaN</td>\n",
       "    </tr>\n",
       "    <tr>\n",
       "      <th>25%</th>\n",
       "      <td>9.444958e+17</td>\n",
       "      <td>9.413883e+17</td>\n",
       "      <td>300.0</td>\n",
       "      <td>44196397.0</td>\n",
       "      <td>NaN</td>\n",
       "      <td>45.000000</td>\n",
       "      <td>45.000000</td>\n",
       "      <td>8.790000e+02</td>\n",
       "      <td>0.000000</td>\n",
       "      <td>NaN</td>\n",
       "      <td>NaN</td>\n",
       "      <td>NaN</td>\n",
       "      <td>NaN</td>\n",
       "      <td>NaN</td>\n",
       "      <td>NaN</td>\n",
       "      <td>NaN</td>\n",
       "      <td>NaN</td>\n",
       "      <td>NaN</td>\n",
       "      <td>NaN</td>\n",
       "    </tr>\n",
       "    <tr>\n",
       "      <th>50%</th>\n",
       "      <td>1.117568e+18</td>\n",
       "      <td>1.117117e+18</td>\n",
       "      <td>300.0</td>\n",
       "      <td>44196397.0</td>\n",
       "      <td>NaN</td>\n",
       "      <td>113.000000</td>\n",
       "      <td>144.500000</td>\n",
       "      <td>2.439500e+03</td>\n",
       "      <td>0.000000</td>\n",
       "      <td>NaN</td>\n",
       "      <td>NaN</td>\n",
       "      <td>NaN</td>\n",
       "      <td>NaN</td>\n",
       "      <td>NaN</td>\n",
       "      <td>NaN</td>\n",
       "      <td>NaN</td>\n",
       "      <td>NaN</td>\n",
       "      <td>NaN</td>\n",
       "      <td>NaN</td>\n",
       "    </tr>\n",
       "    <tr>\n",
       "      <th>75%</th>\n",
       "      <td>1.255896e+18</td>\n",
       "      <td>1.254922e+18</td>\n",
       "      <td>300.0</td>\n",
       "      <td>44196397.0</td>\n",
       "      <td>NaN</td>\n",
       "      <td>373.000000</td>\n",
       "      <td>847.750000</td>\n",
       "      <td>1.128250e+04</td>\n",
       "      <td>0.000000</td>\n",
       "      <td>NaN</td>\n",
       "      <td>NaN</td>\n",
       "      <td>NaN</td>\n",
       "      <td>NaN</td>\n",
       "      <td>NaN</td>\n",
       "      <td>NaN</td>\n",
       "      <td>NaN</td>\n",
       "      <td>NaN</td>\n",
       "      <td>NaN</td>\n",
       "      <td>NaN</td>\n",
       "    </tr>\n",
       "    <tr>\n",
       "      <th>max</th>\n",
       "      <td>1.383296e+18</td>\n",
       "      <td>1.383296e+18</td>\n",
       "      <td>300.0</td>\n",
       "      <td>44196397.0</td>\n",
       "      <td>NaN</td>\n",
       "      <td>61349.000000</td>\n",
       "      <td>361461.000000</td>\n",
       "      <td>1.593425e+06</td>\n",
       "      <td>1.000000</td>\n",
       "      <td>NaN</td>\n",
       "      <td>NaN</td>\n",
       "      <td>NaN</td>\n",
       "      <td>NaN</td>\n",
       "      <td>NaN</td>\n",
       "      <td>NaN</td>\n",
       "      <td>NaN</td>\n",
       "      <td>NaN</td>\n",
       "      <td>NaN</td>\n",
       "      <td>NaN</td>\n",
       "    </tr>\n",
       "  </tbody>\n",
       "</table>\n",
       "</div>"
      ],
      "text/plain": [
       "                 id  conversation_id  timezone     user_id  place  \\\n",
       "count  1.256200e+04     1.256200e+04   12562.0     12562.0    0.0   \n",
       "mean   1.049919e+18     1.047490e+18     300.0  44196397.0    NaN   \n",
       "std    2.761981e+17     2.783202e+17       0.0         0.0    NaN   \n",
       "min    1.543473e+10     1.659576e+09     300.0  44196397.0    NaN   \n",
       "25%    9.444958e+17     9.413883e+17     300.0  44196397.0    NaN   \n",
       "50%    1.117568e+18     1.117117e+18     300.0  44196397.0    NaN   \n",
       "75%    1.255896e+18     1.254922e+18     300.0  44196397.0    NaN   \n",
       "max    1.383296e+18     1.383296e+18     300.0  44196397.0    NaN   \n",
       "\n",
       "       replies_count  retweets_count   likes_count         video  near  geo  \\\n",
       "count   12562.000000    12562.000000  1.256200e+04  12562.000000   0.0  0.0   \n",
       "mean      679.370005     2256.727193  2.147006e+04      0.063047   NaN  NaN   \n",
       "std      2453.853763     9793.382524  6.727787e+04      0.243058   NaN  NaN   \n",
       "min         0.000000        0.000000  2.000000e+00      0.000000   NaN  NaN   \n",
       "25%        45.000000       45.000000  8.790000e+02      0.000000   NaN  NaN   \n",
       "50%       113.000000      144.500000  2.439500e+03      0.000000   NaN  NaN   \n",
       "75%       373.000000      847.750000  1.128250e+04      0.000000   NaN  NaN   \n",
       "max     61349.000000   361461.000000  1.593425e+06      1.000000   NaN  NaN   \n",
       "\n",
       "       source  user_rt_id  user_rt  retweet_id  retweet_date  translate  \\\n",
       "count     0.0         0.0      0.0         0.0           0.0        0.0   \n",
       "mean      NaN         NaN      NaN         NaN           NaN        NaN   \n",
       "std       NaN         NaN      NaN         NaN           NaN        NaN   \n",
       "min       NaN         NaN      NaN         NaN           NaN        NaN   \n",
       "25%       NaN         NaN      NaN         NaN           NaN        NaN   \n",
       "50%       NaN         NaN      NaN         NaN           NaN        NaN   \n",
       "75%       NaN         NaN      NaN         NaN           NaN        NaN   \n",
       "max       NaN         NaN      NaN         NaN           NaN        NaN   \n",
       "\n",
       "       trans_src  trans_dest  \n",
       "count        0.0         0.0  \n",
       "mean         NaN         NaN  \n",
       "std          NaN         NaN  \n",
       "min          NaN         NaN  \n",
       "25%          NaN         NaN  \n",
       "50%          NaN         NaN  \n",
       "75%          NaN         NaN  \n",
       "max          NaN         NaN  "
      ]
     },
     "execution_count": 4,
     "metadata": {},
     "output_type": "execute_result"
    }
   ],
   "source": [
    "elon_tweets_data.describe()"
   ]
  },
  {
   "cell_type": "markdown",
   "id": "b873baa0-a421-45d6-9f98-e6da8a21eab6",
   "metadata": {},
   "source": [
    "## Combine Datasets and Refine"
   ]
  },
  {
   "cell_type": "code",
   "execution_count": 5,
   "id": "10a4449f-5d17-4b8c-a5b4-50504e000c3b",
   "metadata": {
    "tags": []
   },
   "outputs": [],
   "source": [
    "refined_elon = DataFrame(elon_tweets_data, columns=['replies_count', 'retweets_count', 'likes_count', 'date'])\n",
    "refined_tesla_stock = DataFrame(tesla_stock_data, columns=['High', 'Low', 'Date'])\n",
    "refined_tesla_stock = refined_tesla_stock.rename(columns={'Date': 'date'})"
   ]
  },
  {
   "cell_type": "code",
   "execution_count": 6,
   "id": "69b317ed-9769-4152-b6ac-dc39691583e1",
   "metadata": {
    "tags": []
   },
   "outputs": [],
   "source": [
    "sorted_elon = refined_elon.sort_values(by='date', ascending=True)\n",
    "sorted_tesla = refined_tesla_stock.sort_values(by='date', ascending=True)"
   ]
  },
  {
   "cell_type": "markdown",
   "id": "6b54c932-f86b-4400-b5e3-7e6e0ca4c29f",
   "metadata": {},
   "source": [
    "#### Merged dataframes"
   ]
  },
  {
   "cell_type": "code",
   "execution_count": 7,
   "id": "78a17ac6-a7b2-4adc-833f-c253b9952c26",
   "metadata": {
    "tags": []
   },
   "outputs": [],
   "source": [
    "data_merged = pd.merge(refined_elon, refined_tesla_stock, on='date', how='inner')\n",
    "# create everage row\n",
    "data_merged['average_stock'] = (data_merged['High'] + data_merged['Low']) /2"
   ]
  },
  {
   "cell_type": "markdown",
   "id": "15ebfe63-90c6-40c1-9451-3285f006a021",
   "metadata": {},
   "source": [
    "## Data clean and Analysis"
   ]
  },
  {
   "cell_type": "markdown",
   "id": "22ca4c6b-1c14-4c80-9078-55fdb83ce310",
   "metadata": {},
   "source": [
    "### Null values"
   ]
  },
  {
   "cell_type": "code",
   "execution_count": 8,
   "id": "bb7add78-7028-458a-a2f0-01c0a9c177fa",
   "metadata": {
    "tags": []
   },
   "outputs": [
    {
     "data": {
      "text/plain": [
       "replies_count     False\n",
       "retweets_count    False\n",
       "likes_count       False\n",
       "date              False\n",
       "High              False\n",
       "Low               False\n",
       "average_stock     False\n",
       "dtype: bool"
      ]
     },
     "execution_count": 8,
     "metadata": {},
     "output_type": "execute_result"
    }
   ],
   "source": [
    "pd.isnull(data_merged).any()"
   ]
  },
  {
   "cell_type": "markdown",
   "id": "7f4e9b89-abb3-42d4-bba0-0699b6bf3b65",
   "metadata": {},
   "source": [
    "Data has no null values"
   ]
  },
  {
   "cell_type": "markdown",
   "id": "9fa93707-6f09-42cb-b701-6be1e089394a",
   "metadata": {},
   "source": [
    "### Min values each column"
   ]
  },
  {
   "cell_type": "code",
   "execution_count": 9,
   "id": "3c1a966b-e18b-4b10-9042-467dfc13b48b",
   "metadata": {
    "tags": []
   },
   "outputs": [
    {
     "data": {
      "text/plain": [
       "replies_count              0\n",
       "retweets_count             0\n",
       "likes_count                2\n",
       "date              2011-12-01\n",
       "High                   5.376\n",
       "Low                    4.528\n",
       "average_stock          5.114\n",
       "dtype: object"
      ]
     },
     "execution_count": 9,
     "metadata": {},
     "output_type": "execute_result"
    }
   ],
   "source": [
    "data_merged.min()"
   ]
  },
  {
   "cell_type": "markdown",
   "id": "79609740-2d9b-4da4-9315-7ebfae726192",
   "metadata": {},
   "source": [
    "### Max values each column"
   ]
  },
  {
   "cell_type": "code",
   "execution_count": 10,
   "id": "d28ec29a-b430-4cd2-aa4e-59c7273c3d3a",
   "metadata": {
    "tags": []
   },
   "outputs": [
    {
     "data": {
      "text/plain": [
       "replies_count          57987\n",
       "retweets_count        301391\n",
       "likes_count          1593425\n",
       "date              2021-04-16\n",
       "High              900.400024\n",
       "Low               871.599976\n",
       "average_stock         883.75\n",
       "dtype: object"
      ]
     },
     "execution_count": 10,
     "metadata": {},
     "output_type": "execute_result"
    }
   ],
   "source": [
    "data_merged.max()"
   ]
  },
  {
   "cell_type": "markdown",
   "id": "a6b50b30-47b3-4752-b8be-1c3a89a0ebaf",
   "metadata": {},
   "source": [
    "### Mean(average) values each column"
   ]
  },
  {
   "cell_type": "code",
   "execution_count": 11,
   "id": "91c6fb0d-215b-46b6-bd8d-295d35471df0",
   "metadata": {
    "tags": []
   },
   "outputs": [
    {
     "data": {
      "text/plain": [
       "replies_count       685.899456\n",
       "retweets_count     2260.268888\n",
       "likes_count       21401.644336\n",
       "High                163.749719\n",
       "Low                 155.572628\n",
       "average_stock       159.661173\n",
       "dtype: float64"
      ]
     },
     "execution_count": 11,
     "metadata": {},
     "output_type": "execute_result"
    }
   ],
   "source": [
    "data_merged.mean(numeric_only=True)"
   ]
  },
  {
   "cell_type": "markdown",
   "id": "c8c68b27-a03a-404e-a0bd-0d13b218889f",
   "metadata": {
    "tags": []
   },
   "source": [
    "## Data Info"
   ]
  },
  {
   "cell_type": "code",
   "execution_count": 12,
   "id": "719656a9-4cca-40af-ab3d-4b2e3f0f2388",
   "metadata": {
    "tags": []
   },
   "outputs": [
    {
     "name": "stdout",
     "output_type": "stream",
     "text": [
      "<class 'pandas.core.frame.DataFrame'>\n",
      "Int64Index: 8643 entries, 0 to 8642\n",
      "Data columns (total 7 columns):\n",
      " #   Column          Non-Null Count  Dtype  \n",
      "---  ------          --------------  -----  \n",
      " 0   replies_count   8643 non-null   int64  \n",
      " 1   retweets_count  8643 non-null   int64  \n",
      " 2   likes_count     8643 non-null   int64  \n",
      " 3   date            8643 non-null   object \n",
      " 4   High            8643 non-null   float64\n",
      " 5   Low             8643 non-null   float64\n",
      " 6   average_stock   8643 non-null   float64\n",
      "dtypes: float64(3), int64(3), object(1)\n",
      "memory usage: 540.2+ KB\n"
     ]
    }
   ],
   "source": [
    "data_merged.info()"
   ]
  },
  {
   "cell_type": "markdown",
   "id": "1a695ed0-0fe9-4be4-99ca-d3e7c7fe68b6",
   "metadata": {},
   "source": [
    "## Dependent and Independent variables"
   ]
  },
  {
   "cell_type": "code",
   "execution_count": 14,
   "id": "2b7ca41a-55aa-477e-bedd-8565054a4ae5",
   "metadata": {},
   "outputs": [],
   "source": [
    "y = DataFrame(data_merged, columns=['average_stock'])\n",
    "x = DataFrame(data_merged, columns=['replies_count', 'retweets_count', 'likes_count'])"
   ]
  },
  {
   "cell_type": "code",
   "execution_count": null,
   "id": "155ceb40-71a9-4954-8685-d2b3738f4b8f",
   "metadata": {},
   "outputs": [],
   "source": []
  }
 ],
 "metadata": {
  "kernelspec": {
   "display_name": "Python 3 (ipykernel)",
   "language": "python",
   "name": "python3"
  },
  "language_info": {
   "codemirror_mode": {
    "name": "ipython",
    "version": 3
   },
   "file_extension": ".py",
   "mimetype": "text/x-python",
   "name": "python",
   "nbconvert_exporter": "python",
   "pygments_lexer": "ipython3",
   "version": "3.11.3"
  }
 },
 "nbformat": 4,
 "nbformat_minor": 5
}
