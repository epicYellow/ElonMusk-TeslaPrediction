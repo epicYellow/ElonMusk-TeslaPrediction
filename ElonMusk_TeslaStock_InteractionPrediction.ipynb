{
 "cells": [
  {
   "cell_type": "markdown",
   "id": "132e8ea4-9ee9-4c56-90f9-8d69ebc209b0",
   "metadata": {
    "tags": []
   },
   "source": [
    "# Tesla Stock Market prediction based on Elon Musk Tweet Interaction"
   ]
  },
  {
   "cell_type": "code",
   "execution_count": 36,
   "id": "ec2269a2-7e48-4d5a-a4e3-8a97e89ae6ab",
   "metadata": {
    "tags": []
   },
   "outputs": [],
   "source": [
    "import pandas as pd\n",
    "from pandas import DataFrame\n",
    "import matplotlib.pyplot as plt\n",
    "\n",
    "from sklearn.model_selection import train_test_split\n",
    "from sklearn.linear_model import LinearRegression\n",
    "import matplotlib.pyplot as plt\n",
    "\n",
    "import numpy as np"
   ]
  },
  {
   "cell_type": "code",
   "execution_count": 2,
   "id": "c6187f7c-31dd-4179-bc1d-d77418610961",
   "metadata": {
    "tags": []
   },
   "outputs": [],
   "source": [
    "tesla_stock_data = pd.read_csv(\"TSLA.csv\")\n",
    "elon_tweets_data = pd.read_csv(\"TweetsElonMusk.csv\")"
   ]
  },
  {
   "cell_type": "markdown",
   "id": "605482a4-cf58-4f16-be9b-f1e3899d70ec",
   "metadata": {
    "tags": []
   },
   "source": [
    "## Describing Datasets"
   ]
  },
  {
   "cell_type": "markdown",
   "id": "e02d2812-f733-4c6a-9d17-dd7dc18c220f",
   "metadata": {},
   "source": [
    "### Tesla Data"
   ]
  },
  {
   "cell_type": "code",
   "execution_count": 3,
   "id": "148006e2-16d8-4ecd-87e2-d760f9d2faaf",
   "metadata": {
    "tags": []
   },
   "outputs": [
    {
     "data": {
      "text/html": [
       "<div>\n",
       "<style scoped>\n",
       "    .dataframe tbody tr th:only-of-type {\n",
       "        vertical-align: middle;\n",
       "    }\n",
       "\n",
       "    .dataframe tbody tr th {\n",
       "        vertical-align: top;\n",
       "    }\n",
       "\n",
       "    .dataframe thead th {\n",
       "        text-align: right;\n",
       "    }\n",
       "</style>\n",
       "<table border=\"1\" class=\"dataframe\">\n",
       "  <thead>\n",
       "    <tr style=\"text-align: right;\">\n",
       "      <th></th>\n",
       "      <th>Open</th>\n",
       "      <th>High</th>\n",
       "      <th>Low</th>\n",
       "      <th>Close</th>\n",
       "      <th>Adj Close</th>\n",
       "      <th>Volume</th>\n",
       "    </tr>\n",
       "  </thead>\n",
       "  <tbody>\n",
       "    <tr>\n",
       "      <th>count</th>\n",
       "      <td>2956.000000</td>\n",
       "      <td>2956.000000</td>\n",
       "      <td>2956.000000</td>\n",
       "      <td>2956.000000</td>\n",
       "      <td>2956.000000</td>\n",
       "      <td>2.956000e+03</td>\n",
       "    </tr>\n",
       "    <tr>\n",
       "      <th>mean</th>\n",
       "      <td>138.691296</td>\n",
       "      <td>141.771603</td>\n",
       "      <td>135.425953</td>\n",
       "      <td>138.762183</td>\n",
       "      <td>138.762183</td>\n",
       "      <td>3.131449e+07</td>\n",
       "    </tr>\n",
       "    <tr>\n",
       "      <th>std</th>\n",
       "      <td>250.044839</td>\n",
       "      <td>255.863239</td>\n",
       "      <td>243.774157</td>\n",
       "      <td>250.123115</td>\n",
       "      <td>250.123115</td>\n",
       "      <td>2.798383e+07</td>\n",
       "    </tr>\n",
       "    <tr>\n",
       "      <th>min</th>\n",
       "      <td>3.228000</td>\n",
       "      <td>3.326000</td>\n",
       "      <td>2.996000</td>\n",
       "      <td>3.160000</td>\n",
       "      <td>3.160000</td>\n",
       "      <td>5.925000e+05</td>\n",
       "    </tr>\n",
       "    <tr>\n",
       "      <th>25%</th>\n",
       "      <td>19.627000</td>\n",
       "      <td>20.402000</td>\n",
       "      <td>19.127500</td>\n",
       "      <td>19.615000</td>\n",
       "      <td>19.615000</td>\n",
       "      <td>1.310288e+07</td>\n",
       "    </tr>\n",
       "    <tr>\n",
       "      <th>50%</th>\n",
       "      <td>46.656999</td>\n",
       "      <td>47.487001</td>\n",
       "      <td>45.820002</td>\n",
       "      <td>46.545000</td>\n",
       "      <td>46.545000</td>\n",
       "      <td>2.488680e+07</td>\n",
       "    </tr>\n",
       "    <tr>\n",
       "      <th>75%</th>\n",
       "      <td>68.057001</td>\n",
       "      <td>69.357500</td>\n",
       "      <td>66.911501</td>\n",
       "      <td>68.103998</td>\n",
       "      <td>68.103998</td>\n",
       "      <td>3.973875e+07</td>\n",
       "    </tr>\n",
       "    <tr>\n",
       "      <th>max</th>\n",
       "      <td>1234.410034</td>\n",
       "      <td>1243.489990</td>\n",
       "      <td>1217.000000</td>\n",
       "      <td>1229.910034</td>\n",
       "      <td>1229.910034</td>\n",
       "      <td>3.046940e+08</td>\n",
       "    </tr>\n",
       "  </tbody>\n",
       "</table>\n",
       "</div>"
      ],
      "text/plain": [
       "              Open         High          Low        Close    Adj Close  \\\n",
       "count  2956.000000  2956.000000  2956.000000  2956.000000  2956.000000   \n",
       "mean    138.691296   141.771603   135.425953   138.762183   138.762183   \n",
       "std     250.044839   255.863239   243.774157   250.123115   250.123115   \n",
       "min       3.228000     3.326000     2.996000     3.160000     3.160000   \n",
       "25%      19.627000    20.402000    19.127500    19.615000    19.615000   \n",
       "50%      46.656999    47.487001    45.820002    46.545000    46.545000   \n",
       "75%      68.057001    69.357500    66.911501    68.103998    68.103998   \n",
       "max    1234.410034  1243.489990  1217.000000  1229.910034  1229.910034   \n",
       "\n",
       "             Volume  \n",
       "count  2.956000e+03  \n",
       "mean   3.131449e+07  \n",
       "std    2.798383e+07  \n",
       "min    5.925000e+05  \n",
       "25%    1.310288e+07  \n",
       "50%    2.488680e+07  \n",
       "75%    3.973875e+07  \n",
       "max    3.046940e+08  "
      ]
     },
     "execution_count": 3,
     "metadata": {},
     "output_type": "execute_result"
    }
   ],
   "source": [
    "tesla_stock_data.describe()"
   ]
  },
  {
   "cell_type": "markdown",
   "id": "1cd225eb-f3aa-41d7-9bad-1fd500d68fe7",
   "metadata": {},
   "source": [
    "### Elon Musk Data"
   ]
  },
  {
   "cell_type": "code",
   "execution_count": 4,
   "id": "0e0e3f97-6b6f-4cf5-b8fb-e0f73961f5d3",
   "metadata": {
    "tags": []
   },
   "outputs": [
    {
     "data": {
      "text/html": [
       "<div>\n",
       "<style scoped>\n",
       "    .dataframe tbody tr th:only-of-type {\n",
       "        vertical-align: middle;\n",
       "    }\n",
       "\n",
       "    .dataframe tbody tr th {\n",
       "        vertical-align: top;\n",
       "    }\n",
       "\n",
       "    .dataframe thead th {\n",
       "        text-align: right;\n",
       "    }\n",
       "</style>\n",
       "<table border=\"1\" class=\"dataframe\">\n",
       "  <thead>\n",
       "    <tr style=\"text-align: right;\">\n",
       "      <th></th>\n",
       "      <th>id</th>\n",
       "      <th>conversation_id</th>\n",
       "      <th>timezone</th>\n",
       "      <th>user_id</th>\n",
       "      <th>place</th>\n",
       "      <th>replies_count</th>\n",
       "      <th>retweets_count</th>\n",
       "      <th>likes_count</th>\n",
       "      <th>video</th>\n",
       "      <th>near</th>\n",
       "      <th>geo</th>\n",
       "      <th>source</th>\n",
       "      <th>user_rt_id</th>\n",
       "      <th>user_rt</th>\n",
       "      <th>retweet_id</th>\n",
       "      <th>retweet_date</th>\n",
       "      <th>translate</th>\n",
       "      <th>trans_src</th>\n",
       "      <th>trans_dest</th>\n",
       "    </tr>\n",
       "  </thead>\n",
       "  <tbody>\n",
       "    <tr>\n",
       "      <th>count</th>\n",
       "      <td>1.256200e+04</td>\n",
       "      <td>1.256200e+04</td>\n",
       "      <td>12562.0</td>\n",
       "      <td>12562.0</td>\n",
       "      <td>0.0</td>\n",
       "      <td>12562.000000</td>\n",
       "      <td>12562.000000</td>\n",
       "      <td>1.256200e+04</td>\n",
       "      <td>12562.000000</td>\n",
       "      <td>0.0</td>\n",
       "      <td>0.0</td>\n",
       "      <td>0.0</td>\n",
       "      <td>0.0</td>\n",
       "      <td>0.0</td>\n",
       "      <td>0.0</td>\n",
       "      <td>0.0</td>\n",
       "      <td>0.0</td>\n",
       "      <td>0.0</td>\n",
       "      <td>0.0</td>\n",
       "    </tr>\n",
       "    <tr>\n",
       "      <th>mean</th>\n",
       "      <td>1.049919e+18</td>\n",
       "      <td>1.047490e+18</td>\n",
       "      <td>300.0</td>\n",
       "      <td>44196397.0</td>\n",
       "      <td>NaN</td>\n",
       "      <td>679.370005</td>\n",
       "      <td>2256.727193</td>\n",
       "      <td>2.147006e+04</td>\n",
       "      <td>0.063047</td>\n",
       "      <td>NaN</td>\n",
       "      <td>NaN</td>\n",
       "      <td>NaN</td>\n",
       "      <td>NaN</td>\n",
       "      <td>NaN</td>\n",
       "      <td>NaN</td>\n",
       "      <td>NaN</td>\n",
       "      <td>NaN</td>\n",
       "      <td>NaN</td>\n",
       "      <td>NaN</td>\n",
       "    </tr>\n",
       "    <tr>\n",
       "      <th>std</th>\n",
       "      <td>2.761981e+17</td>\n",
       "      <td>2.783202e+17</td>\n",
       "      <td>0.0</td>\n",
       "      <td>0.0</td>\n",
       "      <td>NaN</td>\n",
       "      <td>2453.853763</td>\n",
       "      <td>9793.382524</td>\n",
       "      <td>6.727787e+04</td>\n",
       "      <td>0.243058</td>\n",
       "      <td>NaN</td>\n",
       "      <td>NaN</td>\n",
       "      <td>NaN</td>\n",
       "      <td>NaN</td>\n",
       "      <td>NaN</td>\n",
       "      <td>NaN</td>\n",
       "      <td>NaN</td>\n",
       "      <td>NaN</td>\n",
       "      <td>NaN</td>\n",
       "      <td>NaN</td>\n",
       "    </tr>\n",
       "    <tr>\n",
       "      <th>min</th>\n",
       "      <td>1.543473e+10</td>\n",
       "      <td>1.659576e+09</td>\n",
       "      <td>300.0</td>\n",
       "      <td>44196397.0</td>\n",
       "      <td>NaN</td>\n",
       "      <td>0.000000</td>\n",
       "      <td>0.000000</td>\n",
       "      <td>2.000000e+00</td>\n",
       "      <td>0.000000</td>\n",
       "      <td>NaN</td>\n",
       "      <td>NaN</td>\n",
       "      <td>NaN</td>\n",
       "      <td>NaN</td>\n",
       "      <td>NaN</td>\n",
       "      <td>NaN</td>\n",
       "      <td>NaN</td>\n",
       "      <td>NaN</td>\n",
       "      <td>NaN</td>\n",
       "      <td>NaN</td>\n",
       "    </tr>\n",
       "    <tr>\n",
       "      <th>25%</th>\n",
       "      <td>9.444958e+17</td>\n",
       "      <td>9.413883e+17</td>\n",
       "      <td>300.0</td>\n",
       "      <td>44196397.0</td>\n",
       "      <td>NaN</td>\n",
       "      <td>45.000000</td>\n",
       "      <td>45.000000</td>\n",
       "      <td>8.790000e+02</td>\n",
       "      <td>0.000000</td>\n",
       "      <td>NaN</td>\n",
       "      <td>NaN</td>\n",
       "      <td>NaN</td>\n",
       "      <td>NaN</td>\n",
       "      <td>NaN</td>\n",
       "      <td>NaN</td>\n",
       "      <td>NaN</td>\n",
       "      <td>NaN</td>\n",
       "      <td>NaN</td>\n",
       "      <td>NaN</td>\n",
       "    </tr>\n",
       "    <tr>\n",
       "      <th>50%</th>\n",
       "      <td>1.117568e+18</td>\n",
       "      <td>1.117117e+18</td>\n",
       "      <td>300.0</td>\n",
       "      <td>44196397.0</td>\n",
       "      <td>NaN</td>\n",
       "      <td>113.000000</td>\n",
       "      <td>144.500000</td>\n",
       "      <td>2.439500e+03</td>\n",
       "      <td>0.000000</td>\n",
       "      <td>NaN</td>\n",
       "      <td>NaN</td>\n",
       "      <td>NaN</td>\n",
       "      <td>NaN</td>\n",
       "      <td>NaN</td>\n",
       "      <td>NaN</td>\n",
       "      <td>NaN</td>\n",
       "      <td>NaN</td>\n",
       "      <td>NaN</td>\n",
       "      <td>NaN</td>\n",
       "    </tr>\n",
       "    <tr>\n",
       "      <th>75%</th>\n",
       "      <td>1.255896e+18</td>\n",
       "      <td>1.254922e+18</td>\n",
       "      <td>300.0</td>\n",
       "      <td>44196397.0</td>\n",
       "      <td>NaN</td>\n",
       "      <td>373.000000</td>\n",
       "      <td>847.750000</td>\n",
       "      <td>1.128250e+04</td>\n",
       "      <td>0.000000</td>\n",
       "      <td>NaN</td>\n",
       "      <td>NaN</td>\n",
       "      <td>NaN</td>\n",
       "      <td>NaN</td>\n",
       "      <td>NaN</td>\n",
       "      <td>NaN</td>\n",
       "      <td>NaN</td>\n",
       "      <td>NaN</td>\n",
       "      <td>NaN</td>\n",
       "      <td>NaN</td>\n",
       "    </tr>\n",
       "    <tr>\n",
       "      <th>max</th>\n",
       "      <td>1.383296e+18</td>\n",
       "      <td>1.383296e+18</td>\n",
       "      <td>300.0</td>\n",
       "      <td>44196397.0</td>\n",
       "      <td>NaN</td>\n",
       "      <td>61349.000000</td>\n",
       "      <td>361461.000000</td>\n",
       "      <td>1.593425e+06</td>\n",
       "      <td>1.000000</td>\n",
       "      <td>NaN</td>\n",
       "      <td>NaN</td>\n",
       "      <td>NaN</td>\n",
       "      <td>NaN</td>\n",
       "      <td>NaN</td>\n",
       "      <td>NaN</td>\n",
       "      <td>NaN</td>\n",
       "      <td>NaN</td>\n",
       "      <td>NaN</td>\n",
       "      <td>NaN</td>\n",
       "    </tr>\n",
       "  </tbody>\n",
       "</table>\n",
       "</div>"
      ],
      "text/plain": [
       "                 id  conversation_id  timezone     user_id  place  \\\n",
       "count  1.256200e+04     1.256200e+04   12562.0     12562.0    0.0   \n",
       "mean   1.049919e+18     1.047490e+18     300.0  44196397.0    NaN   \n",
       "std    2.761981e+17     2.783202e+17       0.0         0.0    NaN   \n",
       "min    1.543473e+10     1.659576e+09     300.0  44196397.0    NaN   \n",
       "25%    9.444958e+17     9.413883e+17     300.0  44196397.0    NaN   \n",
       "50%    1.117568e+18     1.117117e+18     300.0  44196397.0    NaN   \n",
       "75%    1.255896e+18     1.254922e+18     300.0  44196397.0    NaN   \n",
       "max    1.383296e+18     1.383296e+18     300.0  44196397.0    NaN   \n",
       "\n",
       "       replies_count  retweets_count   likes_count         video  near  geo  \\\n",
       "count   12562.000000    12562.000000  1.256200e+04  12562.000000   0.0  0.0   \n",
       "mean      679.370005     2256.727193  2.147006e+04      0.063047   NaN  NaN   \n",
       "std      2453.853763     9793.382524  6.727787e+04      0.243058   NaN  NaN   \n",
       "min         0.000000        0.000000  2.000000e+00      0.000000   NaN  NaN   \n",
       "25%        45.000000       45.000000  8.790000e+02      0.000000   NaN  NaN   \n",
       "50%       113.000000      144.500000  2.439500e+03      0.000000   NaN  NaN   \n",
       "75%       373.000000      847.750000  1.128250e+04      0.000000   NaN  NaN   \n",
       "max     61349.000000   361461.000000  1.593425e+06      1.000000   NaN  NaN   \n",
       "\n",
       "       source  user_rt_id  user_rt  retweet_id  retweet_date  translate  \\\n",
       "count     0.0         0.0      0.0         0.0           0.0        0.0   \n",
       "mean      NaN         NaN      NaN         NaN           NaN        NaN   \n",
       "std       NaN         NaN      NaN         NaN           NaN        NaN   \n",
       "min       NaN         NaN      NaN         NaN           NaN        NaN   \n",
       "25%       NaN         NaN      NaN         NaN           NaN        NaN   \n",
       "50%       NaN         NaN      NaN         NaN           NaN        NaN   \n",
       "75%       NaN         NaN      NaN         NaN           NaN        NaN   \n",
       "max       NaN         NaN      NaN         NaN           NaN        NaN   \n",
       "\n",
       "       trans_src  trans_dest  \n",
       "count        0.0         0.0  \n",
       "mean         NaN         NaN  \n",
       "std          NaN         NaN  \n",
       "min          NaN         NaN  \n",
       "25%          NaN         NaN  \n",
       "50%          NaN         NaN  \n",
       "75%          NaN         NaN  \n",
       "max          NaN         NaN  "
      ]
     },
     "execution_count": 4,
     "metadata": {},
     "output_type": "execute_result"
    }
   ],
   "source": [
    "elon_tweets_data.describe()"
   ]
  },
  {
   "cell_type": "markdown",
   "id": "b873baa0-a421-45d6-9f98-e6da8a21eab6",
   "metadata": {},
   "source": [
    "## Combine Datasets and Refine"
   ]
  },
  {
   "cell_type": "code",
   "execution_count": 5,
   "id": "10a4449f-5d17-4b8c-a5b4-50504e000c3b",
   "metadata": {
    "tags": []
   },
   "outputs": [],
   "source": [
    "refined_elon = DataFrame(elon_tweets_data, columns=['replies_count', 'retweets_count', 'likes_count', 'date'])\n",
    "refined_tesla_stock = DataFrame(tesla_stock_data, columns=['High', 'Low', 'Date'])\n",
    "refined_tesla_stock = refined_tesla_stock.rename(columns={'Date': 'date'})"
   ]
  },
  {
   "cell_type": "code",
   "execution_count": 6,
   "id": "69b317ed-9769-4152-b6ac-dc39691583e1",
   "metadata": {
    "tags": []
   },
   "outputs": [],
   "source": [
    "sorted_elon = refined_elon.sort_values(by='date', ascending=True)\n",
    "sorted_tesla = refined_tesla_stock.sort_values(by='date', ascending=True)"
   ]
  },
  {
   "cell_type": "markdown",
   "id": "6b54c932-f86b-4400-b5e3-7e6e0ca4c29f",
   "metadata": {},
   "source": [
    "#### Merged dataframes"
   ]
  },
  {
   "cell_type": "code",
   "execution_count": 7,
   "id": "78a17ac6-a7b2-4adc-833f-c253b9952c26",
   "metadata": {
    "tags": []
   },
   "outputs": [
    {
     "data": {
      "text/plain": [
       "Index(['replies_count', 'retweets_count', 'likes_count', 'date', 'High', 'Low',\n",
       "       'average_stock'],\n",
       "      dtype='object')"
      ]
     },
     "execution_count": 7,
     "metadata": {},
     "output_type": "execute_result"
    }
   ],
   "source": [
    "data_merged = pd.merge(refined_elon, refined_tesla_stock, on='date', how='inner')\n",
    "# create everage row\n",
    "data_merged['average_stock'] = (data_merged['High'] + data_merged['Low']) /2\n",
    "\n",
    "data_merged.columns"
   ]
  },
  {
   "cell_type": "markdown",
   "id": "15ebfe63-90c6-40c1-9451-3285f006a021",
   "metadata": {},
   "source": [
    "## Data clean and Analysis"
   ]
  },
  {
   "cell_type": "markdown",
   "id": "22ca4c6b-1c14-4c80-9078-55fdb83ce310",
   "metadata": {},
   "source": [
    "### Null values"
   ]
  },
  {
   "cell_type": "code",
   "execution_count": 8,
   "id": "bb7add78-7028-458a-a2f0-01c0a9c177fa",
   "metadata": {
    "tags": []
   },
   "outputs": [
    {
     "data": {
      "text/plain": [
       "replies_count     False\n",
       "retweets_count    False\n",
       "likes_count       False\n",
       "date              False\n",
       "High              False\n",
       "Low               False\n",
       "average_stock     False\n",
       "dtype: bool"
      ]
     },
     "execution_count": 8,
     "metadata": {},
     "output_type": "execute_result"
    }
   ],
   "source": [
    "data_merged.to_csv('data.csv', index=False)\n",
    "pd.isnull(data_merged).any()"
   ]
  },
  {
   "cell_type": "markdown",
   "id": "7f4e9b89-abb3-42d4-bba0-0699b6bf3b65",
   "metadata": {},
   "source": [
    "Data has no null values"
   ]
  },
  {
   "cell_type": "markdown",
   "id": "9fa93707-6f09-42cb-b701-6be1e089394a",
   "metadata": {},
   "source": [
    "### Min values each column"
   ]
  },
  {
   "cell_type": "code",
   "execution_count": 9,
   "id": "3c1a966b-e18b-4b10-9042-467dfc13b48b",
   "metadata": {
    "tags": []
   },
   "outputs": [
    {
     "data": {
      "text/plain": [
       "replies_count              0\n",
       "retweets_count             0\n",
       "likes_count                2\n",
       "date              2011-12-01\n",
       "High                   5.376\n",
       "Low                    4.528\n",
       "average_stock          5.114\n",
       "dtype: object"
      ]
     },
     "execution_count": 9,
     "metadata": {},
     "output_type": "execute_result"
    }
   ],
   "source": [
    "data_merged.min()"
   ]
  },
  {
   "cell_type": "markdown",
   "id": "79609740-2d9b-4da4-9315-7ebfae726192",
   "metadata": {},
   "source": [
    "### Max values each column"
   ]
  },
  {
   "cell_type": "code",
   "execution_count": 10,
   "id": "d28ec29a-b430-4cd2-aa4e-59c7273c3d3a",
   "metadata": {
    "tags": []
   },
   "outputs": [
    {
     "data": {
      "text/plain": [
       "replies_count          57987\n",
       "retweets_count        301391\n",
       "likes_count          1593425\n",
       "date              2021-04-16\n",
       "High              900.400024\n",
       "Low               871.599976\n",
       "average_stock         883.75\n",
       "dtype: object"
      ]
     },
     "execution_count": 10,
     "metadata": {},
     "output_type": "execute_result"
    }
   ],
   "source": [
    "data_merged.max()"
   ]
  },
  {
   "cell_type": "markdown",
   "id": "a6b50b30-47b3-4752-b8be-1c3a89a0ebaf",
   "metadata": {},
   "source": [
    "### Mean(average) values each column"
   ]
  },
  {
   "cell_type": "code",
   "execution_count": 11,
   "id": "91c6fb0d-215b-46b6-bd8d-295d35471df0",
   "metadata": {
    "tags": []
   },
   "outputs": [
    {
     "data": {
      "text/plain": [
       "replies_count       685.899456\n",
       "retweets_count     2260.268888\n",
       "likes_count       21401.644336\n",
       "High                163.749719\n",
       "Low                 155.572628\n",
       "average_stock       159.661173\n",
       "dtype: float64"
      ]
     },
     "execution_count": 11,
     "metadata": {},
     "output_type": "execute_result"
    }
   ],
   "source": [
    "data_merged.mean(numeric_only=True)"
   ]
  },
  {
   "cell_type": "markdown",
   "id": "c8c68b27-a03a-404e-a0bd-0d13b218889f",
   "metadata": {
    "tags": []
   },
   "source": [
    "## Data Info"
   ]
  },
  {
   "cell_type": "code",
   "execution_count": 12,
   "id": "719656a9-4cca-40af-ab3d-4b2e3f0f2388",
   "metadata": {
    "tags": []
   },
   "outputs": [
    {
     "name": "stdout",
     "output_type": "stream",
     "text": [
      "<class 'pandas.core.frame.DataFrame'>\n",
      "Int64Index: 8643 entries, 0 to 8642\n",
      "Data columns (total 7 columns):\n",
      " #   Column          Non-Null Count  Dtype  \n",
      "---  ------          --------------  -----  \n",
      " 0   replies_count   8643 non-null   int64  \n",
      " 1   retweets_count  8643 non-null   int64  \n",
      " 2   likes_count     8643 non-null   int64  \n",
      " 3   date            8643 non-null   object \n",
      " 4   High            8643 non-null   float64\n",
      " 5   Low             8643 non-null   float64\n",
      " 6   average_stock   8643 non-null   float64\n",
      "dtypes: float64(3), int64(3), object(1)\n",
      "memory usage: 540.2+ KB\n"
     ]
    }
   ],
   "source": [
    "data_merged.info()"
   ]
  },
  {
   "cell_type": "markdown",
   "id": "1a695ed0-0fe9-4be4-99ca-d3e7c7fe68b6",
   "metadata": {},
   "source": [
    "## Dependent and Independent variables"
   ]
  },
  {
   "cell_type": "code",
   "execution_count": 13,
   "id": "2b7ca41a-55aa-477e-bedd-8565054a4ae5",
   "metadata": {},
   "outputs": [],
   "source": [
    "y = DataFrame(data_merged, columns=['average_stock'])\n",
    "x = DataFrame(data_merged, columns=['replies_count', 'retweets_count', 'likes_count'])\n",
    "\n",
    "# data = pd.get_dummies(data, columns=['job'], prefix='is')"
   ]
  },
  {
   "cell_type": "markdown",
   "id": "1c1b359e-879b-445c-890c-c98d6f993772",
   "metadata": {},
   "source": [
    "### Test Splits and Model Training"
   ]
  },
  {
   "cell_type": "code",
   "execution_count": 14,
   "id": "00fa5a5d-8405-4110-ac87-d96d50b29f78",
   "metadata": {
    "tags": []
   },
   "outputs": [
    {
     "data": {
      "text/html": [
       "<style>#sk-container-id-1 {color: black;background-color: white;}#sk-container-id-1 pre{padding: 0;}#sk-container-id-1 div.sk-toggleable {background-color: white;}#sk-container-id-1 label.sk-toggleable__label {cursor: pointer;display: block;width: 100%;margin-bottom: 0;padding: 0.3em;box-sizing: border-box;text-align: center;}#sk-container-id-1 label.sk-toggleable__label-arrow:before {content: \"▸\";float: left;margin-right: 0.25em;color: #696969;}#sk-container-id-1 label.sk-toggleable__label-arrow:hover:before {color: black;}#sk-container-id-1 div.sk-estimator:hover label.sk-toggleable__label-arrow:before {color: black;}#sk-container-id-1 div.sk-toggleable__content {max-height: 0;max-width: 0;overflow: hidden;text-align: left;background-color: #f0f8ff;}#sk-container-id-1 div.sk-toggleable__content pre {margin: 0.2em;color: black;border-radius: 0.25em;background-color: #f0f8ff;}#sk-container-id-1 input.sk-toggleable__control:checked~div.sk-toggleable__content {max-height: 200px;max-width: 100%;overflow: auto;}#sk-container-id-1 input.sk-toggleable__control:checked~label.sk-toggleable__label-arrow:before {content: \"▾\";}#sk-container-id-1 div.sk-estimator input.sk-toggleable__control:checked~label.sk-toggleable__label {background-color: #d4ebff;}#sk-container-id-1 div.sk-label input.sk-toggleable__control:checked~label.sk-toggleable__label {background-color: #d4ebff;}#sk-container-id-1 input.sk-hidden--visually {border: 0;clip: rect(1px 1px 1px 1px);clip: rect(1px, 1px, 1px, 1px);height: 1px;margin: -1px;overflow: hidden;padding: 0;position: absolute;width: 1px;}#sk-container-id-1 div.sk-estimator {font-family: monospace;background-color: #f0f8ff;border: 1px dotted black;border-radius: 0.25em;box-sizing: border-box;margin-bottom: 0.5em;}#sk-container-id-1 div.sk-estimator:hover {background-color: #d4ebff;}#sk-container-id-1 div.sk-parallel-item::after {content: \"\";width: 100%;border-bottom: 1px solid gray;flex-grow: 1;}#sk-container-id-1 div.sk-label:hover label.sk-toggleable__label {background-color: #d4ebff;}#sk-container-id-1 div.sk-serial::before {content: \"\";position: absolute;border-left: 1px solid gray;box-sizing: border-box;top: 0;bottom: 0;left: 50%;z-index: 0;}#sk-container-id-1 div.sk-serial {display: flex;flex-direction: column;align-items: center;background-color: white;padding-right: 0.2em;padding-left: 0.2em;position: relative;}#sk-container-id-1 div.sk-item {position: relative;z-index: 1;}#sk-container-id-1 div.sk-parallel {display: flex;align-items: stretch;justify-content: center;background-color: white;position: relative;}#sk-container-id-1 div.sk-item::before, #sk-container-id-1 div.sk-parallel-item::before {content: \"\";position: absolute;border-left: 1px solid gray;box-sizing: border-box;top: 0;bottom: 0;left: 50%;z-index: -1;}#sk-container-id-1 div.sk-parallel-item {display: flex;flex-direction: column;z-index: 1;position: relative;background-color: white;}#sk-container-id-1 div.sk-parallel-item:first-child::after {align-self: flex-end;width: 50%;}#sk-container-id-1 div.sk-parallel-item:last-child::after {align-self: flex-start;width: 50%;}#sk-container-id-1 div.sk-parallel-item:only-child::after {width: 0;}#sk-container-id-1 div.sk-dashed-wrapped {border: 1px dashed gray;margin: 0 0.4em 0.5em 0.4em;box-sizing: border-box;padding-bottom: 0.4em;background-color: white;}#sk-container-id-1 div.sk-label label {font-family: monospace;font-weight: bold;display: inline-block;line-height: 1.2em;}#sk-container-id-1 div.sk-label-container {text-align: center;}#sk-container-id-1 div.sk-container {/* jupyter's `normalize.less` sets `[hidden] { display: none; }` but bootstrap.min.css set `[hidden] { display: none !important; }` so we also need the `!important` here to be able to override the default hidden behavior on the sphinx rendered scikit-learn.org. See: https://github.com/scikit-learn/scikit-learn/issues/21755 */display: inline-block !important;position: relative;}#sk-container-id-1 div.sk-text-repr-fallback {display: none;}</style><div id=\"sk-container-id-1\" class=\"sk-top-container\"><div class=\"sk-text-repr-fallback\"><pre>LinearRegression()</pre><b>In a Jupyter environment, please rerun this cell to show the HTML representation or trust the notebook. <br />On GitHub, the HTML representation is unable to render, please try loading this page with nbviewer.org.</b></div><div class=\"sk-container\" hidden><div class=\"sk-item\"><div class=\"sk-estimator sk-toggleable\"><input class=\"sk-toggleable__control sk-hidden--visually\" id=\"sk-estimator-id-1\" type=\"checkbox\" checked><label for=\"sk-estimator-id-1\" class=\"sk-toggleable__label sk-toggleable__label-arrow\">LinearRegression</label><div class=\"sk-toggleable__content\"><pre>LinearRegression()</pre></div></div></div></div></div>"
      ],
      "text/plain": [
       "LinearRegression()"
      ]
     },
     "execution_count": 14,
     "metadata": {},
     "output_type": "execute_result"
    }
   ],
   "source": [
    "x_train, x_test, y_train, y_test = train_test_split(x, y, test_size=0.2,\n",
    "                                                    random_state=24)\n",
    "\n",
    "regr = LinearRegression()\n",
    "regr.fit(x_train, y_train)"
   ]
  },
  {
   "cell_type": "code",
   "execution_count": 15,
   "id": "f4271e5f-68a8-4e5b-a9e4-09ce5f9efbdf",
   "metadata": {
    "tags": []
   },
   "outputs": [
    {
     "name": "stdout",
     "output_type": "stream",
     "text": [
      "Intercept [139.64593628]\n"
     ]
    },
    {
     "data": {
      "text/html": [
       "<div>\n",
       "<style scoped>\n",
       "    .dataframe tbody tr th:only-of-type {\n",
       "        vertical-align: middle;\n",
       "    }\n",
       "\n",
       "    .dataframe tbody tr th {\n",
       "        vertical-align: top;\n",
       "    }\n",
       "\n",
       "    .dataframe thead th {\n",
       "        text-align: right;\n",
       "    }\n",
       "</style>\n",
       "<table border=\"1\" class=\"dataframe\">\n",
       "  <thead>\n",
       "    <tr style=\"text-align: right;\">\n",
       "      <th></th>\n",
       "      <th>coef</th>\n",
       "    </tr>\n",
       "  </thead>\n",
       "  <tbody>\n",
       "    <tr>\n",
       "      <th>replies_count</th>\n",
       "      <td>0.011116</td>\n",
       "    </tr>\n",
       "    <tr>\n",
       "      <th>retweets_count</th>\n",
       "      <td>-0.008764</td>\n",
       "    </tr>\n",
       "    <tr>\n",
       "      <th>likes_count</th>\n",
       "      <td>0.001465</td>\n",
       "    </tr>\n",
       "  </tbody>\n",
       "</table>\n",
       "</div>"
      ],
      "text/plain": [
       "                    coef\n",
       "replies_count   0.011116\n",
       "retweets_count -0.008764\n",
       "likes_count     0.001465"
      ]
     },
     "execution_count": 15,
     "metadata": {},
     "output_type": "execute_result"
    }
   ],
   "source": [
    "print(\"Intercept\", regr.intercept_)\n",
    "coef_data = regr.coef_.reshape(-1, 1)\n",
    "pd.DataFrame(data=coef_data, index=x_train.columns, columns=['coef'])"
   ]
  },
  {
   "cell_type": "code",
   "execution_count": 16,
   "id": "a2fd3081-937d-4a13-bb1a-4c66f4ee885d",
   "metadata": {
    "tags": []
   },
   "outputs": [],
   "source": [
    "# From the coefficient above we clearly see that the reply count has the most significant impact on the stock price. But only very little."
   ]
  },
  {
   "cell_type": "markdown",
   "id": "f7e236d0-3888-4435-9f8d-fb61335a0210",
   "metadata": {},
   "source": [
    "### Model Accuracy with R-Squared"
   ]
  },
  {
   "cell_type": "code",
   "execution_count": 17,
   "id": "2971c1bb-8762-4c9f-9c7c-e60a1fbb91ea",
   "metadata": {
    "tags": []
   },
   "outputs": [
    {
     "name": "stdout",
     "output_type": "stream",
     "text": [
      "Trainng data r-squared: 0.10322181866978375\n",
      "Test data r-squared: 0.11446396098382661\n"
     ]
    }
   ],
   "source": [
    "print('Trainng data r-squared:', regr.score(x_train, y_train))\n",
    "print('Test data r-squared:', regr.score(x_test, y_test))"
   ]
  },
  {
   "cell_type": "code",
   "execution_count": 18,
   "id": "1cea40ec-cbe1-40c9-8240-260332db1a85",
   "metadata": {
    "tags": []
   },
   "outputs": [],
   "source": [
    "# from the r-squared results we see that our model are not the most accurate."
   ]
  },
  {
   "cell_type": "markdown",
   "id": "710a45f1-f3ec-43eb-8eb1-0fbcbcd4d631",
   "metadata": {},
   "source": [
    "## Test Non Accurate Model"
   ]
  },
  {
   "cell_type": "code",
   "execution_count": 19,
   "id": "4a6b083a-857f-4917-ba55-bd53d8490646",
   "metadata": {
    "tags": []
   },
   "outputs": [
    {
     "name": "stdout",
     "output_type": "stream",
     "text": [
      "Predicted Average Stock: [143.24038732]\n"
     ]
    }
   ],
   "source": [
    "input_tweet = {\n",
    "    'replies_count': 107,\n",
    "    'retweets_count': 60,\n",
    "    'likes_count': 2000,  \n",
    "}\n",
    "\n",
    "# Create a DataFrame with the input data\n",
    "input_df = pd.DataFrame(input_tweet, index=[0])\n",
    "\n",
    "\n",
    "# Use the model to make a prediction\n",
    "predicted_stock = regr.predict(input_df)\n",
    "\n",
    "print(f'Predicted Average Stock: {predicted_stock[0]}')"
   ]
  },
  {
   "cell_type": "markdown",
   "id": "bb070986-385d-4e7d-8fc0-ff70318a2156",
   "metadata": {},
   "source": [
    "## Refine Model and Data"
   ]
  },
  {
   "cell_type": "markdown",
   "id": "0090dea5-573d-4499-8dc7-23d19af00ec0",
   "metadata": {
    "tags": []
   },
   "source": [
    "### Test Data For Correlations\n"
   ]
  },
  {
   "cell_type": "code",
   "execution_count": 40,
   "id": "6a848728-6af5-4add-8e70-25ce54bb1e9c",
   "metadata": {},
   "outputs": [
    {
     "data": {
      "image/png": "[encoded data removed]",
      "text/plain": [
       "<Figure size 1000x600 with 1 Axes>"
      ]
     },
     "metadata": {},
     "output_type": "display_data"
    }
   ],
   "source": [
    "plt.figure(figsize=(10,6))\n",
    "plt.hist(data_merged['average_stock'], bins=50, ec='black', color='gray')\n",
    "plt.xlabel(\"Price in $100000s\")\n",
    "plt.ylabel('Number of houses')\n",
    "plt.show()"
   ]
  },
  {
   "cell_type": "code",
   "execution_count": 41,
   "id": "b21cda2d-5966-417c-a6f9-ed4c76d7f098",
   "metadata": {
    "tags": []
   },
   "outputs": [
    {
     "data": {
      "image/png": "[encoded data removed]",
      "text/plain": [
       "<Figure size 1000x600 with 1 Axes>"
      ]
     },
     "metadata": {},
     "output_type": "display_data"
    }
   ],
   "source": [
    "\n",
    "\n",
    "plt.figure(figsize=(10,6))\n",
    "plt.scatter(x[\"likes_count\"], y, alpha=0.3)\n",
    "plt.title('Likes vs Stocks')\n",
    "plt.show()\n"
   ]
  },
  {
   "cell_type": "code",
   "execution_count": 43,
   "id": "1570fe02-bd0b-41f7-9814-852a53e64fd6",
   "metadata": {
    "tags": []
   },
   "outputs": [],
   "source": [
    "y_log = np.log(data_merged[\"average_stock\"])"
   ]
  },
  {
   "cell_type": "code",
   "execution_count": 44,
   "id": "bbfa2e3f-aba1-459f-8121-b67669cfa528",
   "metadata": {
    "tags": []
   },
   "outputs": [
    {
     "data": {
      "text/plain": [
       "0.25110902277795066"
      ]
     },
     "execution_count": 44,
     "metadata": {},
     "output_type": "execute_result"
    }
   ],
   "source": [
    "y_log.skew()"
   ]
  },
  {
   "cell_type": "code",
   "execution_count": 45,
   "id": "c498d6d2-7887-490f-92c8-bac8fe679589",
   "metadata": {
    "tags": []
   },
   "outputs": [
    {
     "data": {
      "text/plain": [
       "average_stock    1.991316\n",
       "dtype: float64"
      ]
     },
     "execution_count": 45,
     "metadata": {},
     "output_type": "execute_result"
    }
   ],
   "source": [
    "y.skew()"
   ]
  },
  {
   "cell_type": "code",
   "execution_count": 47,
   "id": "454d9d9d-5e9a-4042-b7e6-5161628ea800",
   "metadata": {
    "tags": []
   },
   "outputs": [
    {
     "data": {
      "image/png": "[encoded data removed]",
      "text/plain": [
       "<Figure size 1000x600 with 1 Axes>"
      ]
     },
     "metadata": {},
     "output_type": "display_data"
    }
   ],
   "source": [
    "plt.figure(figsize=(10,6))\n",
    "plt.hist(y_log, bins=50, ec='black', color='gray')\n",
    "plt.xlabel(\"Price in $100000s\")\n",
    "plt.ylabel('Number of houses')\n",
    "plt.show()"
   ]
  },
  {
   "cell_type": "code",
   "execution_count": null,
   "id": "0508c0a2-7ca0-4e19-983c-e35b69ad49a3",
   "metadata": {},
   "outputs": [],
   "source": []
  }
 ],
 "metadata": {
  "kernelspec": {
   "display_name": "Python 3 (ipykernel)",
   "language": "python",
   "name": "python3"
  },
  "language_info": {
   "codemirror_mode": {
    "name": "ipython",
    "version": 3
   },
   "file_extension": ".py",
   "mimetype": "text/x-python",
   "name": "python",
   "nbconvert_exporter": "python",
   "pygments_lexer": "ipython3",
   "version": "3.11.3"
  }
 },
 "nbformat": 4,
 "nbformat_minor": 5
}
