{
 "cells": [
  {
   "cell_type": "markdown",
   "id": "132e8ea4-9ee9-4c56-90f9-8d69ebc209b0",
   "metadata": {
    "tags": []
   },
   "source": [
    "# Tesla Stock Market prediction based on Elon Musk Tweet Interaction"
   ]
  },
  {
   "cell_type": "code",
   "execution_count": 1,
   "id": "ec2269a2-7e48-4d5a-a4e3-8a97e89ae6ab",
   "metadata": {
    "tags": []
   },
   "outputs": [],
   "source": [
    "import pandas as pd\n",
    "from pandas import DataFrame\n",
    "import matplotlib.pyplot as plt\n",
    "from sklearn.linear_model import Ridge\n",
    "from sklearn.model_selection import RandomizedSearchCV\n",
    "from sklearn.metrics import mean_absolute_error, mean_squared_error, r2_score\n",
    "\n",
    "from sklearn.model_selection import train_test_split\n",
    "from sklearn.linear_model import LinearRegression\n",
    "import matplotlib.pyplot as plt\n",
    "\n",
    "import joblib\n",
    "import seaborn as sns\n",
    "import numpy as np"
   ]
  },
  {
   "cell_type": "code",
   "execution_count": 2,
   "id": "c6187f7c-31dd-4179-bc1d-d77418610961",
   "metadata": {
    "tags": []
   },
   "outputs": [],
   "source": [
    "tesla_stock_data = pd.read_csv(\"TSLA.csv\")\n",
    "elon_tweets_data = pd.read_csv(\"TweetsElonMusk.csv\")"
   ]
  },
  {
   "cell_type": "markdown",
   "id": "605482a4-cf58-4f16-be9b-f1e3899d70ec",
   "metadata": {
    "tags": []
   },
   "source": [
    "## Describing Datasets"
   ]
  },
  {
   "cell_type": "markdown",
   "id": "e02d2812-f733-4c6a-9d17-dd7dc18c220f",
   "metadata": {},
   "source": [
    "### Tesla Data"
   ]
  },
  {
   "cell_type": "code",
   "execution_count": 3,
   "id": "148006e2-16d8-4ecd-87e2-d760f9d2faaf",
   "metadata": {
    "tags": []
   },
   "outputs": [
    {
     "data": {
      "text/html": [
       "<div>\n",
       "<style scoped>\n",
       "    .dataframe tbody tr th:only-of-type {\n",
       "        vertical-align: middle;\n",
       "    }\n",
       "\n",
       "    .dataframe tbody tr th {\n",
       "        vertical-align: top;\n",
       "    }\n",
       "\n",
       "    .dataframe thead th {\n",
       "        text-align: right;\n",
       "    }\n",
       "</style>\n",
       "<table border=\"1\" class=\"dataframe\">\n",
       "  <thead>\n",
       "    <tr style=\"text-align: right;\">\n",
       "      <th></th>\n",
       "      <th>Open</th>\n",
       "      <th>High</th>\n",
       "      <th>Low</th>\n",
       "      <th>Close</th>\n",
       "      <th>Adj Close</th>\n",
       "      <th>Volume</th>\n",
       "    </tr>\n",
       "  </thead>\n",
       "  <tbody>\n",
       "    <tr>\n",
       "      <th>count</th>\n",
       "      <td>2956.000000</td>\n",
       "      <td>2956.000000</td>\n",
       "      <td>2956.000000</td>\n",
       "      <td>2956.000000</td>\n",
       "      <td>2956.000000</td>\n",
       "      <td>2.956000e+03</td>\n",
       "    </tr>\n",
       "    <tr>\n",
       "      <th>mean</th>\n",
       "      <td>138.691296</td>\n",
       "      <td>141.771603</td>\n",
       "      <td>135.425953</td>\n",
       "      <td>138.762183</td>\n",
       "      <td>138.762183</td>\n",
       "      <td>3.131449e+07</td>\n",
       "    </tr>\n",
       "    <tr>\n",
       "      <th>std</th>\n",
       "      <td>250.044839</td>\n",
       "      <td>255.863239</td>\n",
       "      <td>243.774157</td>\n",
       "      <td>250.123115</td>\n",
       "      <td>250.123115</td>\n",
       "      <td>2.798383e+07</td>\n",
       "    </tr>\n",
       "    <tr>\n",
       "      <th>min</th>\n",
       "      <td>3.228000</td>\n",
       "      <td>3.326000</td>\n",
       "      <td>2.996000</td>\n",
       "      <td>3.160000</td>\n",
       "      <td>3.160000</td>\n",
       "      <td>5.925000e+05</td>\n",
       "    </tr>\n",
       "    <tr>\n",
       "      <th>25%</th>\n",
       "      <td>19.627000</td>\n",
       "      <td>20.402000</td>\n",
       "      <td>19.127500</td>\n",
       "      <td>19.615000</td>\n",
       "      <td>19.615000</td>\n",
       "      <td>1.310288e+07</td>\n",
       "    </tr>\n",
       "    <tr>\n",
       "      <th>50%</th>\n",
       "      <td>46.656999</td>\n",
       "      <td>47.487001</td>\n",
       "      <td>45.820002</td>\n",
       "      <td>46.545000</td>\n",
       "      <td>46.545000</td>\n",
       "      <td>2.488680e+07</td>\n",
       "    </tr>\n",
       "    <tr>\n",
       "      <th>75%</th>\n",
       "      <td>68.057001</td>\n",
       "      <td>69.357500</td>\n",
       "      <td>66.911501</td>\n",
       "      <td>68.103998</td>\n",
       "      <td>68.103998</td>\n",
       "      <td>3.973875e+07</td>\n",
       "    </tr>\n",
       "    <tr>\n",
       "      <th>max</th>\n",
       "      <td>1234.410034</td>\n",
       "      <td>1243.489990</td>\n",
       "      <td>1217.000000</td>\n",
       "      <td>1229.910034</td>\n",
       "      <td>1229.910034</td>\n",
       "      <td>3.046940e+08</td>\n",
       "    </tr>\n",
       "  </tbody>\n",
       "</table>\n",
       "</div>"
      ],
      "text/plain": [
       "              Open         High          Low        Close    Adj Close  \\\n",
       "count  2956.000000  2956.000000  2956.000000  2956.000000  2956.000000   \n",
       "mean    138.691296   141.771603   135.425953   138.762183   138.762183   \n",
       "std     250.044839   255.863239   243.774157   250.123115   250.123115   \n",
       "min       3.228000     3.326000     2.996000     3.160000     3.160000   \n",
       "25%      19.627000    20.402000    19.127500    19.615000    19.615000   \n",
       "50%      46.656999    47.487001    45.820002    46.545000    46.545000   \n",
       "75%      68.057001    69.357500    66.911501    68.103998    68.103998   \n",
       "max    1234.410034  1243.489990  1217.000000  1229.910034  1229.910034   \n",
       "\n",
       "             Volume  \n",
       "count  2.956000e+03  \n",
       "mean   3.131449e+07  \n",
       "std    2.798383e+07  \n",
       "min    5.925000e+05  \n",
       "25%    1.310288e+07  \n",
       "50%    2.488680e+07  \n",
       "75%    3.973875e+07  \n",
       "max    3.046940e+08  "
      ]
     },
     "execution_count": 3,
     "metadata": {},
     "output_type": "execute_result"
    }
   ],
   "source": [
    "tesla_stock_data.describe()"
   ]
  },
  {
   "cell_type": "markdown",
   "id": "1cd225eb-f3aa-41d7-9bad-1fd500d68fe7",
   "metadata": {},
   "source": [
    "### Elon Musk Data"
   ]
  },
  {
   "cell_type": "code",
   "execution_count": 4,
   "id": "0e0e3f97-6b6f-4cf5-b8fb-e0f73961f5d3",
   "metadata": {
    "tags": []
   },
   "outputs": [
    {
     "data": {
      "text/html": [
       "<div>\n",
       "<style scoped>\n",
       "    .dataframe tbody tr th:only-of-type {\n",
       "        vertical-align: middle;\n",
       "    }\n",
       "\n",
       "    .dataframe tbody tr th {\n",
       "        vertical-align: top;\n",
       "    }\n",
       "\n",
       "    .dataframe thead th {\n",
       "        text-align: right;\n",
       "    }\n",
       "</style>\n",
       "<table border=\"1\" class=\"dataframe\">\n",
       "  <thead>\n",
       "    <tr style=\"text-align: right;\">\n",
       "      <th></th>\n",
       "      <th>id</th>\n",
       "      <th>conversation_id</th>\n",
       "      <th>timezone</th>\n",
       "      <th>user_id</th>\n",
       "      <th>place</th>\n",
       "      <th>replies_count</th>\n",
       "      <th>retweets_count</th>\n",
       "      <th>likes_count</th>\n",
       "      <th>video</th>\n",
       "      <th>near</th>\n",
       "      <th>geo</th>\n",
       "      <th>source</th>\n",
       "      <th>user_rt_id</th>\n",
       "      <th>user_rt</th>\n",
       "      <th>retweet_id</th>\n",
       "      <th>retweet_date</th>\n",
       "      <th>translate</th>\n",
       "      <th>trans_src</th>\n",
       "      <th>trans_dest</th>\n",
       "    </tr>\n",
       "  </thead>\n",
       "  <tbody>\n",
       "    <tr>\n",
       "      <th>count</th>\n",
       "      <td>1.256200e+04</td>\n",
       "      <td>1.256200e+04</td>\n",
       "      <td>12562.0</td>\n",
       "      <td>12562.0</td>\n",
       "      <td>0.0</td>\n",
       "      <td>12562.000000</td>\n",
       "      <td>12562.000000</td>\n",
       "      <td>1.256200e+04</td>\n",
       "      <td>12562.000000</td>\n",
       "      <td>0.0</td>\n",
       "      <td>0.0</td>\n",
       "      <td>0.0</td>\n",
       "      <td>0.0</td>\n",
       "      <td>0.0</td>\n",
       "      <td>0.0</td>\n",
       "      <td>0.0</td>\n",
       "      <td>0.0</td>\n",
       "      <td>0.0</td>\n",
       "      <td>0.0</td>\n",
       "    </tr>\n",
       "    <tr>\n",
       "      <th>mean</th>\n",
       "      <td>1.049919e+18</td>\n",
       "      <td>1.047490e+18</td>\n",
       "      <td>300.0</td>\n",
       "      <td>44196397.0</td>\n",
       "      <td>NaN</td>\n",
       "      <td>679.370005</td>\n",
       "      <td>2256.727193</td>\n",
       "      <td>2.147006e+04</td>\n",
       "      <td>0.063047</td>\n",
       "      <td>NaN</td>\n",
       "      <td>NaN</td>\n",
       "      <td>NaN</td>\n",
       "      <td>NaN</td>\n",
       "      <td>NaN</td>\n",
       "      <td>NaN</td>\n",
       "      <td>NaN</td>\n",
       "      <td>NaN</td>\n",
       "      <td>NaN</td>\n",
       "      <td>NaN</td>\n",
       "    </tr>\n",
       "    <tr>\n",
       "      <th>std</th>\n",
       "      <td>2.761981e+17</td>\n",
       "      <td>2.783202e+17</td>\n",
       "      <td>0.0</td>\n",
       "      <td>0.0</td>\n",
       "      <td>NaN</td>\n",
       "      <td>2453.853763</td>\n",
       "      <td>9793.382524</td>\n",
       "      <td>6.727787e+04</td>\n",
       "      <td>0.243058</td>\n",
       "      <td>NaN</td>\n",
       "      <td>NaN</td>\n",
       "      <td>NaN</td>\n",
       "      <td>NaN</td>\n",
       "      <td>NaN</td>\n",
       "      <td>NaN</td>\n",
       "      <td>NaN</td>\n",
       "      <td>NaN</td>\n",
       "      <td>NaN</td>\n",
       "      <td>NaN</td>\n",
       "    </tr>\n",
       "    <tr>\n",
       "      <th>min</th>\n",
       "      <td>1.543473e+10</td>\n",
       "      <td>1.659576e+09</td>\n",
       "      <td>300.0</td>\n",
       "      <td>44196397.0</td>\n",
       "      <td>NaN</td>\n",
       "      <td>0.000000</td>\n",
       "      <td>0.000000</td>\n",
       "      <td>2.000000e+00</td>\n",
       "      <td>0.000000</td>\n",
       "      <td>NaN</td>\n",
       "      <td>NaN</td>\n",
       "      <td>NaN</td>\n",
       "      <td>NaN</td>\n",
       "      <td>NaN</td>\n",
       "      <td>NaN</td>\n",
       "      <td>NaN</td>\n",
       "      <td>NaN</td>\n",
       "      <td>NaN</td>\n",
       "      <td>NaN</td>\n",
       "    </tr>\n",
       "    <tr>\n",
       "      <th>25%</th>\n",
       "      <td>9.444958e+17</td>\n",
       "      <td>9.413883e+17</td>\n",
       "      <td>300.0</td>\n",
       "      <td>44196397.0</td>\n",
       "      <td>NaN</td>\n",
       "      <td>45.000000</td>\n",
       "      <td>45.000000</td>\n",
       "      <td>8.790000e+02</td>\n",
       "      <td>0.000000</td>\n",
       "      <td>NaN</td>\n",
       "      <td>NaN</td>\n",
       "      <td>NaN</td>\n",
       "      <td>NaN</td>\n",
       "      <td>NaN</td>\n",
       "      <td>NaN</td>\n",
       "      <td>NaN</td>\n",
       "      <td>NaN</td>\n",
       "      <td>NaN</td>\n",
       "      <td>NaN</td>\n",
       "    </tr>\n",
       "    <tr>\n",
       "      <th>50%</th>\n",
       "      <td>1.117568e+18</td>\n",
       "      <td>1.117117e+18</td>\n",
       "      <td>300.0</td>\n",
       "      <td>44196397.0</td>\n",
       "      <td>NaN</td>\n",
       "      <td>113.000000</td>\n",
       "      <td>144.500000</td>\n",
       "      <td>2.439500e+03</td>\n",
       "      <td>0.000000</td>\n",
       "      <td>NaN</td>\n",
       "      <td>NaN</td>\n",
       "      <td>NaN</td>\n",
       "      <td>NaN</td>\n",
       "      <td>NaN</td>\n",
       "      <td>NaN</td>\n",
       "      <td>NaN</td>\n",
       "      <td>NaN</td>\n",
       "      <td>NaN</td>\n",
       "      <td>NaN</td>\n",
       "    </tr>\n",
       "    <tr>\n",
       "      <th>75%</th>\n",
       "      <td>1.255896e+18</td>\n",
       "      <td>1.254922e+18</td>\n",
       "      <td>300.0</td>\n",
       "      <td>44196397.0</td>\n",
       "      <td>NaN</td>\n",
       "      <td>373.000000</td>\n",
       "      <td>847.750000</td>\n",
       "      <td>1.128250e+04</td>\n",
       "      <td>0.000000</td>\n",
       "      <td>NaN</td>\n",
       "      <td>NaN</td>\n",
       "      <td>NaN</td>\n",
       "      <td>NaN</td>\n",
       "      <td>NaN</td>\n",
       "      <td>NaN</td>\n",
       "      <td>NaN</td>\n",
       "      <td>NaN</td>\n",
       "      <td>NaN</td>\n",
       "      <td>NaN</td>\n",
       "    </tr>\n",
       "    <tr>\n",
       "      <th>max</th>\n",
       "      <td>1.383296e+18</td>\n",
       "      <td>1.383296e+18</td>\n",
       "      <td>300.0</td>\n",
       "      <td>44196397.0</td>\n",
       "      <td>NaN</td>\n",
       "      <td>61349.000000</td>\n",
       "      <td>361461.000000</td>\n",
       "      <td>1.593425e+06</td>\n",
       "      <td>1.000000</td>\n",
       "      <td>NaN</td>\n",
       "      <td>NaN</td>\n",
       "      <td>NaN</td>\n",
       "      <td>NaN</td>\n",
       "      <td>NaN</td>\n",
       "      <td>NaN</td>\n",
       "      <td>NaN</td>\n",
       "      <td>NaN</td>\n",
       "      <td>NaN</td>\n",
       "      <td>NaN</td>\n",
       "    </tr>\n",
       "  </tbody>\n",
       "</table>\n",
       "</div>"
      ],
      "text/plain": [
       "                 id  conversation_id  timezone     user_id  place  \\\n",
       "count  1.256200e+04     1.256200e+04   12562.0     12562.0    0.0   \n",
       "mean   1.049919e+18     1.047490e+18     300.0  44196397.0    NaN   \n",
       "std    2.761981e+17     2.783202e+17       0.0         0.0    NaN   \n",
       "min    1.543473e+10     1.659576e+09     300.0  44196397.0    NaN   \n",
       "25%    9.444958e+17     9.413883e+17     300.0  44196397.0    NaN   \n",
       "50%    1.117568e+18     1.117117e+18     300.0  44196397.0    NaN   \n",
       "75%    1.255896e+18     1.254922e+18     300.0  44196397.0    NaN   \n",
       "max    1.383296e+18     1.383296e+18     300.0  44196397.0    NaN   \n",
       "\n",
       "       replies_count  retweets_count   likes_count         video  near  geo  \\\n",
       "count   12562.000000    12562.000000  1.256200e+04  12562.000000   0.0  0.0   \n",
       "mean      679.370005     2256.727193  2.147006e+04      0.063047   NaN  NaN   \n",
       "std      2453.853763     9793.382524  6.727787e+04      0.243058   NaN  NaN   \n",
       "min         0.000000        0.000000  2.000000e+00      0.000000   NaN  NaN   \n",
       "25%        45.000000       45.000000  8.790000e+02      0.000000   NaN  NaN   \n",
       "50%       113.000000      144.500000  2.439500e+03      0.000000   NaN  NaN   \n",
       "75%       373.000000      847.750000  1.128250e+04      0.000000   NaN  NaN   \n",
       "max     61349.000000   361461.000000  1.593425e+06      1.000000   NaN  NaN   \n",
       "\n",
       "       source  user_rt_id  user_rt  retweet_id  retweet_date  translate  \\\n",
       "count     0.0         0.0      0.0         0.0           0.0        0.0   \n",
       "mean      NaN         NaN      NaN         NaN           NaN        NaN   \n",
       "std       NaN         NaN      NaN         NaN           NaN        NaN   \n",
       "min       NaN         NaN      NaN         NaN           NaN        NaN   \n",
       "25%       NaN         NaN      NaN         NaN           NaN        NaN   \n",
       "50%       NaN         NaN      NaN         NaN           NaN        NaN   \n",
       "75%       NaN         NaN      NaN         NaN           NaN        NaN   \n",
       "max       NaN         NaN      NaN         NaN           NaN        NaN   \n",
       "\n",
       "       trans_src  trans_dest  \n",
       "count        0.0         0.0  \n",
       "mean         NaN         NaN  \n",
       "std          NaN         NaN  \n",
       "min          NaN         NaN  \n",
       "25%          NaN         NaN  \n",
       "50%          NaN         NaN  \n",
       "75%          NaN         NaN  \n",
       "max          NaN         NaN  "
      ]
     },
     "execution_count": 4,
     "metadata": {},
     "output_type": "execute_result"
    }
   ],
   "source": [
    "elon_tweets_data.describe()"
   ]
  },
  {
   "cell_type": "markdown",
   "id": "b873baa0-a421-45d6-9f98-e6da8a21eab6",
   "metadata": {},
   "source": [
    "## Combine Datasets and Refine"
   ]
  },
  {
   "cell_type": "code",
   "execution_count": 5,
   "id": "10a4449f-5d17-4b8c-a5b4-50504e000c3b",
   "metadata": {
    "tags": []
   },
   "outputs": [],
   "source": [
    "refined_elon = DataFrame(elon_tweets_data, columns=['replies_count', 'retweets_count', 'likes_count', 'date'])\n",
    "refined_tesla_stock = DataFrame(tesla_stock_data, columns=['High', 'Low', 'Date'])\n",
    "refined_tesla_stock = refined_tesla_stock.rename(columns={'Date': 'date'})"
   ]
  },
  {
   "cell_type": "code",
   "execution_count": 6,
   "id": "69b317ed-9769-4152-b6ac-dc39691583e1",
   "metadata": {
    "tags": []
   },
   "outputs": [],
   "source": [
    "sorted_elon = refined_elon.sort_values(by='date', ascending=True)\n",
    "sorted_tesla = refined_tesla_stock.sort_values(by='date', ascending=True)"
   ]
  },
  {
   "cell_type": "markdown",
   "id": "6b54c932-f86b-4400-b5e3-7e6e0ca4c29f",
   "metadata": {},
   "source": [
    "#### Merged dataframes"
   ]
  },
  {
   "cell_type": "code",
   "execution_count": 7,
   "id": "78a17ac6-a7b2-4adc-833f-c253b9952c26",
   "metadata": {
    "tags": []
   },
   "outputs": [
    {
     "data": {
      "text/plain": [
       "Index(['replies_count', 'retweets_count', 'likes_count', 'date', 'High', 'Low',\n",
       "       'average_stock'],\n",
       "      dtype='object')"
      ]
     },
     "execution_count": 7,
     "metadata": {},
     "output_type": "execute_result"
    }
   ],
   "source": [
    "data_merged = pd.merge(refined_elon, refined_tesla_stock, on='date', how='inner')\n",
    "# create everage row\n",
    "data_merged['average_stock'] = (data_merged['High'] + data_merged['Low']) /2\n",
    "\n",
    "data_merged.columns"
   ]
  },
  {
   "cell_type": "markdown",
   "id": "15ebfe63-90c6-40c1-9451-3285f006a021",
   "metadata": {},
   "source": [
    "## Data clean and Analysis"
   ]
  },
  {
   "cell_type": "markdown",
   "id": "22ca4c6b-1c14-4c80-9078-55fdb83ce310",
   "metadata": {},
   "source": [
    "### Null values"
   ]
  },
  {
   "cell_type": "code",
   "execution_count": 8,
   "id": "bb7add78-7028-458a-a2f0-01c0a9c177fa",
   "metadata": {
    "tags": []
   },
   "outputs": [
    {
     "data": {
      "text/plain": [
       "replies_count     False\n",
       "retweets_count    False\n",
       "likes_count       False\n",
       "date              False\n",
       "High              False\n",
       "Low               False\n",
       "average_stock     False\n",
       "dtype: bool"
      ]
     },
     "execution_count": 8,
     "metadata": {},
     "output_type": "execute_result"
    }
   ],
   "source": [
    "data_merged.to_csv('data.csv', index=False)\n",
    "pd.isnull(data_merged).any()"
   ]
  },
  {
   "cell_type": "markdown",
   "id": "7f4e9b89-abb3-42d4-bba0-0699b6bf3b65",
   "metadata": {},
   "source": [
    "Data has no null values"
   ]
  },
  {
   "cell_type": "markdown",
   "id": "9fa93707-6f09-42cb-b701-6be1e089394a",
   "metadata": {},
   "source": [
    "### Min values each column"
   ]
  },
  {
   "cell_type": "code",
   "execution_count": 9,
   "id": "3c1a966b-e18b-4b10-9042-467dfc13b48b",
   "metadata": {
    "tags": []
   },
   "outputs": [
    {
     "data": {
      "text/plain": [
       "replies_count              0\n",
       "retweets_count             0\n",
       "likes_count                2\n",
       "date              2011-12-01\n",
       "High                   5.376\n",
       "Low                    4.528\n",
       "average_stock          5.114\n",
       "dtype: object"
      ]
     },
     "execution_count": 9,
     "metadata": {},
     "output_type": "execute_result"
    }
   ],
   "source": [
    "data_merged.min()"
   ]
  },
  {
   "cell_type": "markdown",
   "id": "79609740-2d9b-4da4-9315-7ebfae726192",
   "metadata": {},
   "source": [
    "### Max values each column"
   ]
  },
  {
   "cell_type": "code",
   "execution_count": 10,
   "id": "d28ec29a-b430-4cd2-aa4e-59c7273c3d3a",
   "metadata": {
    "tags": []
   },
   "outputs": [
    {
     "data": {
      "text/plain": [
       "replies_count          57987\n",
       "retweets_count        301391\n",
       "likes_count          1593425\n",
       "date              2021-04-16\n",
       "High              900.400024\n",
       "Low               871.599976\n",
       "average_stock         883.75\n",
       "dtype: object"
      ]
     },
     "execution_count": 10,
     "metadata": {},
     "output_type": "execute_result"
    }
   ],
   "source": [
    "data_merged.max()"
   ]
  },
  {
   "cell_type": "markdown",
   "id": "a6b50b30-47b3-4752-b8be-1c3a89a0ebaf",
   "metadata": {},
   "source": [
    "### Mean(average) values each column"
   ]
  },
  {
   "cell_type": "code",
   "execution_count": 11,
   "id": "91c6fb0d-215b-46b6-bd8d-295d35471df0",
   "metadata": {
    "tags": []
   },
   "outputs": [
    {
     "data": {
      "text/plain": [
       "replies_count       685.899456\n",
       "retweets_count     2260.268888\n",
       "likes_count       21401.644336\n",
       "High                163.749719\n",
       "Low                 155.572628\n",
       "average_stock       159.661173\n",
       "dtype: float64"
      ]
     },
     "execution_count": 11,
     "metadata": {},
     "output_type": "execute_result"
    }
   ],
   "source": [
    "data_merged.mean(numeric_only=True)"
   ]
  },
  {
   "cell_type": "markdown",
   "id": "c8c68b27-a03a-404e-a0bd-0d13b218889f",
   "metadata": {
    "tags": []
   },
   "source": [
    "## Data Info"
   ]
  },
  {
   "cell_type": "code",
   "execution_count": 12,
   "id": "719656a9-4cca-40af-ab3d-4b2e3f0f2388",
   "metadata": {
    "tags": []
   },
   "outputs": [
    {
     "name": "stdout",
     "output_type": "stream",
     "text": [
      "<class 'pandas.core.frame.DataFrame'>\n",
      "Int64Index: 8643 entries, 0 to 8642\n",
      "Data columns (total 7 columns):\n",
      " #   Column          Non-Null Count  Dtype  \n",
      "---  ------          --------------  -----  \n",
      " 0   replies_count   8643 non-null   int64  \n",
      " 1   retweets_count  8643 non-null   int64  \n",
      " 2   likes_count     8643 non-null   int64  \n",
      " 3   date            8643 non-null   object \n",
      " 4   High            8643 non-null   float64\n",
      " 5   Low             8643 non-null   float64\n",
      " 6   average_stock   8643 non-null   float64\n",
      "dtypes: float64(3), int64(3), object(1)\n",
      "memory usage: 540.2+ KB\n"
     ]
    }
   ],
   "source": [
    "data_merged.info()"
   ]
  },
  {
   "cell_type": "markdown",
   "id": "1a695ed0-0fe9-4be4-99ca-d3e7c7fe68b6",
   "metadata": {},
   "source": [
    "## Dependent and Independent variables"
   ]
  },
  {
   "cell_type": "code",
   "execution_count": 13,
   "id": "2b7ca41a-55aa-477e-bedd-8565054a4ae5",
   "metadata": {},
   "outputs": [],
   "source": [
    "y = DataFrame(data_merged, columns=['average_stock'])\n",
    "x = DataFrame(data_merged, columns=['replies_count', 'retweets_count', 'likes_count'])\n",
    "# data = pd.get_dummies(data, columns=['job'], prefix='is')"
   ]
  },
  {
   "cell_type": "markdown",
   "id": "1c1b359e-879b-445c-890c-c98d6f993772",
   "metadata": {},
   "source": [
    "### Test Splits and Model Training"
   ]
  },
  {
   "cell_type": "code",
   "execution_count": 14,
   "id": "00fa5a5d-8405-4110-ac87-d96d50b29f78",
   "metadata": {
    "tags": []
   },
   "outputs": [
    {
     "data": {
      "text/html": [
       "<style>#sk-container-id-1 {color: black;background-color: white;}#sk-container-id-1 pre{padding: 0;}#sk-container-id-1 div.sk-toggleable {background-color: white;}#sk-container-id-1 label.sk-toggleable__label {cursor: pointer;display: block;width: 100%;margin-bottom: 0;padding: 0.3em;box-sizing: border-box;text-align: center;}#sk-container-id-1 label.sk-toggleable__label-arrow:before {content: \"▸\";float: left;margin-right: 0.25em;color: #696969;}#sk-container-id-1 label.sk-toggleable__label-arrow:hover:before {color: black;}#sk-container-id-1 div.sk-estimator:hover label.sk-toggleable__label-arrow:before {color: black;}#sk-container-id-1 div.sk-toggleable__content {max-height: 0;max-width: 0;overflow: hidden;text-align: left;background-color: #f0f8ff;}#sk-container-id-1 div.sk-toggleable__content pre {margin: 0.2em;color: black;border-radius: 0.25em;background-color: #f0f8ff;}#sk-container-id-1 input.sk-toggleable__control:checked~div.sk-toggleable__content {max-height: 200px;max-width: 100%;overflow: auto;}#sk-container-id-1 input.sk-toggleable__control:checked~label.sk-toggleable__label-arrow:before {content: \"▾\";}#sk-container-id-1 div.sk-estimator input.sk-toggleable__control:checked~label.sk-toggleable__label {background-color: #d4ebff;}#sk-container-id-1 div.sk-label input.sk-toggleable__control:checked~label.sk-toggleable__label {background-color: #d4ebff;}#sk-container-id-1 input.sk-hidden--visually {border: 0;clip: rect(1px 1px 1px 1px);clip: rect(1px, 1px, 1px, 1px);height: 1px;margin: -1px;overflow: hidden;padding: 0;position: absolute;width: 1px;}#sk-container-id-1 div.sk-estimator {font-family: monospace;background-color: #f0f8ff;border: 1px dotted black;border-radius: 0.25em;box-sizing: border-box;margin-bottom: 0.5em;}#sk-container-id-1 div.sk-estimator:hover {background-color: #d4ebff;}#sk-container-id-1 div.sk-parallel-item::after {content: \"\";width: 100%;border-bottom: 1px solid gray;flex-grow: 1;}#sk-container-id-1 div.sk-label:hover label.sk-toggleable__label {background-color: #d4ebff;}#sk-container-id-1 div.sk-serial::before {content: \"\";position: absolute;border-left: 1px solid gray;box-sizing: border-box;top: 0;bottom: 0;left: 50%;z-index: 0;}#sk-container-id-1 div.sk-serial {display: flex;flex-direction: column;align-items: center;background-color: white;padding-right: 0.2em;padding-left: 0.2em;position: relative;}#sk-container-id-1 div.sk-item {position: relative;z-index: 1;}#sk-container-id-1 div.sk-parallel {display: flex;align-items: stretch;justify-content: center;background-color: white;position: relative;}#sk-container-id-1 div.sk-item::before, #sk-container-id-1 div.sk-parallel-item::before {content: \"\";position: absolute;border-left: 1px solid gray;box-sizing: border-box;top: 0;bottom: 0;left: 50%;z-index: -1;}#sk-container-id-1 div.sk-parallel-item {display: flex;flex-direction: column;z-index: 1;position: relative;background-color: white;}#sk-container-id-1 div.sk-parallel-item:first-child::after {align-self: flex-end;width: 50%;}#sk-container-id-1 div.sk-parallel-item:last-child::after {align-self: flex-start;width: 50%;}#sk-container-id-1 div.sk-parallel-item:only-child::after {width: 0;}#sk-container-id-1 div.sk-dashed-wrapped {border: 1px dashed gray;margin: 0 0.4em 0.5em 0.4em;box-sizing: border-box;padding-bottom: 0.4em;background-color: white;}#sk-container-id-1 div.sk-label label {font-family: monospace;font-weight: bold;display: inline-block;line-height: 1.2em;}#sk-container-id-1 div.sk-label-container {text-align: center;}#sk-container-id-1 div.sk-container {/* jupyter's `normalize.less` sets `[hidden] { display: none; }` but bootstrap.min.css set `[hidden] { display: none !important; }` so we also need the `!important` here to be able to override the default hidden behavior on the sphinx rendered scikit-learn.org. See: https://github.com/scikit-learn/scikit-learn/issues/21755 */display: inline-block !important;position: relative;}#sk-container-id-1 div.sk-text-repr-fallback {display: none;}</style><div id=\"sk-container-id-1\" class=\"sk-top-container\"><div class=\"sk-text-repr-fallback\"><pre>LinearRegression()</pre><b>In a Jupyter environment, please rerun this cell to show the HTML representation or trust the notebook. <br />On GitHub, the HTML representation is unable to render, please try loading this page with nbviewer.org.</b></div><div class=\"sk-container\" hidden><div class=\"sk-item\"><div class=\"sk-estimator sk-toggleable\"><input class=\"sk-toggleable__control sk-hidden--visually\" id=\"sk-estimator-id-1\" type=\"checkbox\" checked><label for=\"sk-estimator-id-1\" class=\"sk-toggleable__label sk-toggleable__label-arrow\">LinearRegression</label><div class=\"sk-toggleable__content\"><pre>LinearRegression()</pre></div></div></div></div></div>"
      ],
      "text/plain": [
       "LinearRegression()"
      ]
     },
     "execution_count": 14,
     "metadata": {},
     "output_type": "execute_result"
    }
   ],
   "source": [
    "x_train, x_test, y_train, y_test = train_test_split(x, y, test_size=0.2,\n",
    "                                                    random_state=24)\n",
    "\n",
    "regr = LinearRegression()\n",
    "regr.fit(x_train, y_train)"
   ]
  },
  {
   "cell_type": "code",
   "execution_count": 15,
   "id": "f4271e5f-68a8-4e5b-a9e4-09ce5f9efbdf",
   "metadata": {
    "tags": []
   },
   "outputs": [
    {
     "name": "stdout",
     "output_type": "stream",
     "text": [
      "Intercept [139.64593628]\n"
     ]
    },
    {
     "data": {
      "text/html": [
       "<div>\n",
       "<style scoped>\n",
       "    .dataframe tbody tr th:only-of-type {\n",
       "        vertical-align: middle;\n",
       "    }\n",
       "\n",
       "    .dataframe tbody tr th {\n",
       "        vertical-align: top;\n",
       "    }\n",
       "\n",
       "    .dataframe thead th {\n",
       "        text-align: right;\n",
       "    }\n",
       "</style>\n",
       "<table border=\"1\" class=\"dataframe\">\n",
       "  <thead>\n",
       "    <tr style=\"text-align: right;\">\n",
       "      <th></th>\n",
       "      <th>coef</th>\n",
       "    </tr>\n",
       "  </thead>\n",
       "  <tbody>\n",
       "    <tr>\n",
       "      <th>replies_count</th>\n",
       "      <td>0.011116</td>\n",
       "    </tr>\n",
       "    <tr>\n",
       "      <th>retweets_count</th>\n",
       "      <td>-0.008764</td>\n",
       "    </tr>\n",
       "    <tr>\n",
       "      <th>likes_count</th>\n",
       "      <td>0.001465</td>\n",
       "    </tr>\n",
       "  </tbody>\n",
       "</table>\n",
       "</div>"
      ],
      "text/plain": [
       "                    coef\n",
       "replies_count   0.011116\n",
       "retweets_count -0.008764\n",
       "likes_count     0.001465"
      ]
     },
     "execution_count": 15,
     "metadata": {},
     "output_type": "execute_result"
    }
   ],
   "source": [
    "print(\"Intercept\", regr.intercept_)\n",
    "coef_data = regr.coef_.reshape(-1, 1)\n",
    "pd.DataFrame(data=coef_data, index=x_train.columns, columns=['coef'])"
   ]
  },
  {
   "cell_type": "code",
   "execution_count": 16,
   "id": "a2fd3081-937d-4a13-bb1a-4c66f4ee885d",
   "metadata": {
    "tags": []
   },
   "outputs": [
    {
     "data": {
      "text/plain": [
       "1.0000400008000108"
      ]
     },
     "execution_count": 16,
     "metadata": {},
     "output_type": "execute_result"
    }
   ],
   "source": [
    "np.e**0.000040"
   ]
  },
  {
   "cell_type": "markdown",
   "id": "9d4a4425-d977-4cff-8679-4517a22a2479",
   "metadata": {},
   "source": [
    " From the coefficient above we clearly see that the reply count has the most significant impact on the stock price. But only very little."
   ]
  },
  {
   "cell_type": "markdown",
   "id": "f7e236d0-3888-4435-9f8d-fb61335a0210",
   "metadata": {},
   "source": [
    "### Model Accuracy with R-Squared"
   ]
  },
  {
   "cell_type": "code",
   "execution_count": 17,
   "id": "2971c1bb-8762-4c9f-9c7c-e60a1fbb91ea",
   "metadata": {
    "tags": []
   },
   "outputs": [
    {
     "name": "stdout",
     "output_type": "stream",
     "text": [
      "Trainng data r-squared: 0.10322181866978375\n",
      "Test data r-squared: 0.11446396098382661\n"
     ]
    }
   ],
   "source": [
    "print('Trainng data r-squared:', regr.score(x_train, y_train))\n",
    "print('Test data r-squared:', regr.score(x_test, y_test))"
   ]
  },
  {
   "cell_type": "code",
   "execution_count": 18,
   "id": "1cea40ec-cbe1-40c9-8240-260332db1a85",
   "metadata": {
    "tags": []
   },
   "outputs": [],
   "source": [
    "# from the r-squared results we see that our model are not the most accurate."
   ]
  },
  {
   "cell_type": "markdown",
   "id": "710a45f1-f3ec-43eb-8eb1-0fbcbcd4d631",
   "metadata": {},
   "source": [
    "## Test Non Accurate Model"
   ]
  },
  {
   "cell_type": "code",
   "execution_count": 19,
   "id": "4a6b083a-857f-4917-ba55-bd53d8490646",
   "metadata": {
    "tags": []
   },
   "outputs": [
    {
     "name": "stdout",
     "output_type": "stream",
     "text": [
      "Predicted Average Stock: 2615.5245660889864\n"
     ]
    }
   ],
   "source": [
    "test_data = {\n",
    "    'replies_count': 1803,\n",
    "    'retweets_count': 16000,\n",
    "    'likes_count': 1771523,\n",
    "}\n",
    "\n",
    "# Create a DataFrame with the input data\n",
    "input_df = pd.DataFrame(test_data, index=[0])\n",
    "\n",
    "\n",
    "# Use the model to make a prediction\n",
    "predicted_stock = regr.predict(input_df)\n",
    "\n",
    "print(f'Predicted Average Stock: {predicted_stock[0][0]}')"
   ]
  },
  {
   "cell_type": "markdown",
   "id": "bb070986-385d-4e7d-8fc0-ff70318a2156",
   "metadata": {},
   "source": [
    "## Refine Model and Data"
   ]
  },
  {
   "cell_type": "markdown",
   "id": "0090dea5-573d-4499-8dc7-23d19af00ec0",
   "metadata": {
    "tags": []
   },
   "source": [
    "### Test Data For Correlations\n"
   ]
  },
  {
   "cell_type": "code",
   "execution_count": 20,
   "id": "6a848728-6af5-4add-8e70-25ce54bb1e9c",
   "metadata": {},
   "outputs": [
    {
     "data": {
      "image/png": "[encoded data removed]",
      "text/plain": [
       "<Figure size 1000x600 with 1 Axes>"
      ]
     },
     "metadata": {},
     "output_type": "display_data"
    }
   ],
   "source": [
    "plt.figure(figsize=(10,6))\n",
    "plt.hist(data_merged['average_stock'], bins=50, ec='black', color='gray')\n",
    "plt.xlabel(\"Price in $100000s\")\n",
    "plt.ylabel('Number of houses')\n",
    "plt.show()"
   ]
  },
  {
   "cell_type": "code",
   "execution_count": 21,
   "id": "b21cda2d-5966-417c-a6f9-ed4c76d7f098",
   "metadata": {
    "tags": []
   },
   "outputs": [
    {
     "data": {
      "image/png": "[encoded data removed]",
      "text/plain": [
       "<Figure size 1000x600 with 1 Axes>"
      ]
     },
     "metadata": {},
     "output_type": "display_data"
    }
   ],
   "source": [
    "\n",
    "\n",
    "plt.figure(figsize=(10,6))\n",
    "plt.scatter(x[\"likes_count\"], y, alpha=0.3)\n",
    "plt.title('Likes vs Stocks')\n",
    "plt.show()\n"
   ]
  },
  {
   "cell_type": "code",
   "execution_count": 22,
   "id": "1570fe02-bd0b-41f7-9814-852a53e64fd6",
   "metadata": {
    "tags": []
   },
   "outputs": [],
   "source": [
    "y_log = np.log(data_merged[\"average_stock\"])"
   ]
  },
  {
   "cell_type": "code",
   "execution_count": 23,
   "id": "bbfa2e3f-aba1-459f-8121-b67669cfa528",
   "metadata": {
    "tags": []
   },
   "outputs": [
    {
     "data": {
      "text/plain": [
       "0.25110902277795066"
      ]
     },
     "execution_count": 23,
     "metadata": {},
     "output_type": "execute_result"
    }
   ],
   "source": [
    "y_log.skew()"
   ]
  },
  {
   "cell_type": "code",
   "execution_count": 24,
   "id": "c498d6d2-7887-490f-92c8-bac8fe679589",
   "metadata": {
    "tags": []
   },
   "outputs": [
    {
     "data": {
      "text/plain": [
       "average_stock    1.991316\n",
       "dtype: float64"
      ]
     },
     "execution_count": 24,
     "metadata": {},
     "output_type": "execute_result"
    }
   ],
   "source": [
    "y.skew()"
   ]
  },
  {
   "cell_type": "code",
   "execution_count": 25,
   "id": "454d9d9d-5e9a-4042-b7e6-5161628ea800",
   "metadata": {
    "tags": []
   },
   "outputs": [
    {
     "data": {
      "image/png": "[encoded data removed]",
      "text/plain": [
       "<Figure size 1000x600 with 1 Axes>"
      ]
     },
     "metadata": {},
     "output_type": "display_data"
    }
   ],
   "source": [
    "plt.figure(figsize=(10,6))\n",
    "plt.hist(y_log, bins=50, ec='black', color='gray')\n",
    "plt.xlabel(\"Price in $100000s\")\n",
    "plt.ylabel('Number of houses')\n",
    "plt.show()"
   ]
  },
  {
   "cell_type": "code",
   "execution_count": 26,
   "id": "0508c0a2-7ca0-4e19-983c-e35b69ad49a3",
   "metadata": {
    "tags": []
   },
   "outputs": [
    {
     "data": {
      "image/png": "[encoded data removed]",
      "text/plain": [
       "<Figure size 500x500 with 1 Axes>"
      ]
     },
     "metadata": {},
     "output_type": "display_data"
    }
   ],
   "source": [
    "sns.lmplot(x=\"likes_count\", y=\"average_stock\", data=data_merged, scatter_kws={'alpha': 0.6}, line_kws={'color': 'darkred'})\n",
    "plt.show()"
   ]
  },
  {
   "cell_type": "code",
   "execution_count": 27,
   "id": "5cadb470-9b36-4f7a-aca5-ea026c353de1",
   "metadata": {
    "tags": []
   },
   "outputs": [
    {
     "data": {
      "image/png": "[encoded data removed]",
      "text/plain": [
       "<Figure size 500x500 with 1 Axes>"
      ]
     },
     "metadata": {},
     "output_type": "display_data"
    }
   ],
   "source": [
    "transformed_data = x\n",
    "transformed_data['LOG_Average_Stock'] = y_log\n",
    "sns.lmplot(x=\"replies_count\", y=\"LOG_Average_Stock\", data=transformed_data, scatter_kws={'alpha': 0.6}, line_kws={'color': 'darkred'})\n",
    "plt.show()"
   ]
  },
  {
   "cell_type": "markdown",
   "id": "5e3304be-c84d-4c7b-8bac-e905b0ca9d52",
   "metadata": {},
   "source": [
    "## Hyperparameters RandomizedSearchCV"
   ]
  },
  {
   "cell_type": "markdown",
   "id": "2154d868-00d2-47cd-a896-bf417e17826e",
   "metadata": {},
   "source": [
    " Random Search randomly samples combinations of hyperparameters, which can save time and computational resources. However, whether Random Search is better than Grid Search depends on your specific problem and dataset."
   ]
  },
  {
   "cell_type": "code",
   "execution_count": 28,
   "id": "01866f73-e611-478f-b68b-0c41f9cf66bd",
   "metadata": {
    "tags": []
   },
   "outputs": [
    {
     "data": {
      "text/html": [
       "<style>#sk-container-id-2 {color: black;background-color: white;}#sk-container-id-2 pre{padding: 0;}#sk-container-id-2 div.sk-toggleable {background-color: white;}#sk-container-id-2 label.sk-toggleable__label {cursor: pointer;display: block;width: 100%;margin-bottom: 0;padding: 0.3em;box-sizing: border-box;text-align: center;}#sk-container-id-2 label.sk-toggleable__label-arrow:before {content: \"▸\";float: left;margin-right: 0.25em;color: #696969;}#sk-container-id-2 label.sk-toggleable__label-arrow:hover:before {color: black;}#sk-container-id-2 div.sk-estimator:hover label.sk-toggleable__label-arrow:before {color: black;}#sk-container-id-2 div.sk-toggleable__content {max-height: 0;max-width: 0;overflow: hidden;text-align: left;background-color: #f0f8ff;}#sk-container-id-2 div.sk-toggleable__content pre {margin: 0.2em;color: black;border-radius: 0.25em;background-color: #f0f8ff;}#sk-container-id-2 input.sk-toggleable__control:checked~div.sk-toggleable__content {max-height: 200px;max-width: 100%;overflow: auto;}#sk-container-id-2 input.sk-toggleable__control:checked~label.sk-toggleable__label-arrow:before {content: \"▾\";}#sk-container-id-2 div.sk-estimator input.sk-toggleable__control:checked~label.sk-toggleable__label {background-color: #d4ebff;}#sk-container-id-2 div.sk-label input.sk-toggleable__control:checked~label.sk-toggleable__label {background-color: #d4ebff;}#sk-container-id-2 input.sk-hidden--visually {border: 0;clip: rect(1px 1px 1px 1px);clip: rect(1px, 1px, 1px, 1px);height: 1px;margin: -1px;overflow: hidden;padding: 0;position: absolute;width: 1px;}#sk-container-id-2 div.sk-estimator {font-family: monospace;background-color: #f0f8ff;border: 1px dotted black;border-radius: 0.25em;box-sizing: border-box;margin-bottom: 0.5em;}#sk-container-id-2 div.sk-estimator:hover {background-color: #d4ebff;}#sk-container-id-2 div.sk-parallel-item::after {content: \"\";width: 100%;border-bottom: 1px solid gray;flex-grow: 1;}#sk-container-id-2 div.sk-label:hover label.sk-toggleable__label {background-color: #d4ebff;}#sk-container-id-2 div.sk-serial::before {content: \"\";position: absolute;border-left: 1px solid gray;box-sizing: border-box;top: 0;bottom: 0;left: 50%;z-index: 0;}#sk-container-id-2 div.sk-serial {display: flex;flex-direction: column;align-items: center;background-color: white;padding-right: 0.2em;padding-left: 0.2em;position: relative;}#sk-container-id-2 div.sk-item {position: relative;z-index: 1;}#sk-container-id-2 div.sk-parallel {display: flex;align-items: stretch;justify-content: center;background-color: white;position: relative;}#sk-container-id-2 div.sk-item::before, #sk-container-id-2 div.sk-parallel-item::before {content: \"\";position: absolute;border-left: 1px solid gray;box-sizing: border-box;top: 0;bottom: 0;left: 50%;z-index: -1;}#sk-container-id-2 div.sk-parallel-item {display: flex;flex-direction: column;z-index: 1;position: relative;background-color: white;}#sk-container-id-2 div.sk-parallel-item:first-child::after {align-self: flex-end;width: 50%;}#sk-container-id-2 div.sk-parallel-item:last-child::after {align-self: flex-start;width: 50%;}#sk-container-id-2 div.sk-parallel-item:only-child::after {width: 0;}#sk-container-id-2 div.sk-dashed-wrapped {border: 1px dashed gray;margin: 0 0.4em 0.5em 0.4em;box-sizing: border-box;padding-bottom: 0.4em;background-color: white;}#sk-container-id-2 div.sk-label label {font-family: monospace;font-weight: bold;display: inline-block;line-height: 1.2em;}#sk-container-id-2 div.sk-label-container {text-align: center;}#sk-container-id-2 div.sk-container {/* jupyter's `normalize.less` sets `[hidden] { display: none; }` but bootstrap.min.css set `[hidden] { display: none !important; }` so we also need the `!important` here to be able to override the default hidden behavior on the sphinx rendered scikit-learn.org. See: https://github.com/scikit-learn/scikit-learn/issues/21755 */display: inline-block !important;position: relative;}#sk-container-id-2 div.sk-text-repr-fallback {display: none;}</style><div id=\"sk-container-id-2\" class=\"sk-top-container\"><div class=\"sk-text-repr-fallback\"><pre>RandomizedSearchCV(cv=5, estimator=Ridge(), n_iter=200, n_jobs=-1,\n",
       "                   param_distributions={&#x27;alpha&#x27;: array([1.00000000e-03, 1.14975700e-03, 1.32194115e-03, 1.51991108e-03,\n",
       "       1.74752840e-03, 2.00923300e-03, 2.31012970e-03, 2.65608778e-03,\n",
       "       3.05385551e-03, 3.51119173e-03, 4.03701726e-03, 4.64158883e-03,\n",
       "       5.33669923e-03, 6.13590727e-03, 7.05480231e-03, 8.11130831e-03,\n",
       "       9.32603347e...\n",
       "       7.05480231e+01, 8.11130831e+01, 9.32603347e+01, 1.07226722e+02,\n",
       "       1.23284674e+02, 1.41747416e+02, 1.62975083e+02, 1.87381742e+02,\n",
       "       2.15443469e+02, 2.47707636e+02, 2.84803587e+02, 3.27454916e+02,\n",
       "       3.76493581e+02, 4.32876128e+02, 4.97702356e+02, 5.72236766e+02,\n",
       "       6.57933225e+02, 7.56463328e+02, 8.69749003e+02, 1.00000000e+03]),\n",
       "                                        &#x27;fit_intercept&#x27;: [True, False]},\n",
       "                   scoring=&#x27;neg_mean_squared_error&#x27;)</pre><b>In a Jupyter environment, please rerun this cell to show the HTML representation or trust the notebook. <br />On GitHub, the HTML representation is unable to render, please try loading this page with nbviewer.org.</b></div><div class=\"sk-container\" hidden><div class=\"sk-item sk-dashed-wrapped\"><div class=\"sk-label-container\"><div class=\"sk-label sk-toggleable\"><input class=\"sk-toggleable__control sk-hidden--visually\" id=\"sk-estimator-id-2\" type=\"checkbox\" ><label for=\"sk-estimator-id-2\" class=\"sk-toggleable__label sk-toggleable__label-arrow\">RandomizedSearchCV</label><div class=\"sk-toggleable__content\"><pre>RandomizedSearchCV(cv=5, estimator=Ridge(), n_iter=200, n_jobs=-1,\n",
       "                   param_distributions={&#x27;alpha&#x27;: array([1.00000000e-03, 1.14975700e-03, 1.32194115e-03, 1.51991108e-03,\n",
       "       1.74752840e-03, 2.00923300e-03, 2.31012970e-03, 2.65608778e-03,\n",
       "       3.05385551e-03, 3.51119173e-03, 4.03701726e-03, 4.64158883e-03,\n",
       "       5.33669923e-03, 6.13590727e-03, 7.05480231e-03, 8.11130831e-03,\n",
       "       9.32603347e...\n",
       "       7.05480231e+01, 8.11130831e+01, 9.32603347e+01, 1.07226722e+02,\n",
       "       1.23284674e+02, 1.41747416e+02, 1.62975083e+02, 1.87381742e+02,\n",
       "       2.15443469e+02, 2.47707636e+02, 2.84803587e+02, 3.27454916e+02,\n",
       "       3.76493581e+02, 4.32876128e+02, 4.97702356e+02, 5.72236766e+02,\n",
       "       6.57933225e+02, 7.56463328e+02, 8.69749003e+02, 1.00000000e+03]),\n",
       "                                        &#x27;fit_intercept&#x27;: [True, False]},\n",
       "                   scoring=&#x27;neg_mean_squared_error&#x27;)</pre></div></div></div><div class=\"sk-parallel\"><div class=\"sk-parallel-item\"><div class=\"sk-item\"><div class=\"sk-label-container\"><div class=\"sk-label sk-toggleable\"><input class=\"sk-toggleable__control sk-hidden--visually\" id=\"sk-estimator-id-3\" type=\"checkbox\" ><label for=\"sk-estimator-id-3\" class=\"sk-toggleable__label sk-toggleable__label-arrow\">estimator: Ridge</label><div class=\"sk-toggleable__content\"><pre>Ridge()</pre></div></div></div><div class=\"sk-serial\"><div class=\"sk-item\"><div class=\"sk-estimator sk-toggleable\"><input class=\"sk-toggleable__control sk-hidden--visually\" id=\"sk-estimator-id-4\" type=\"checkbox\" ><label for=\"sk-estimator-id-4\" class=\"sk-toggleable__label sk-toggleable__label-arrow\">Ridge</label><div class=\"sk-toggleable__content\"><pre>Ridge()</pre></div></div></div></div></div></div></div></div></div></div>"
      ],
      "text/plain": [
       "RandomizedSearchCV(cv=5, estimator=Ridge(), n_iter=200, n_jobs=-1,\n",
       "                   param_distributions={'alpha': array([1.00000000e-03, 1.14975700e-03, 1.32194115e-03, 1.51991108e-03,\n",
       "       1.74752840e-03, 2.00923300e-03, 2.31012970e-03, 2.65608778e-03,\n",
       "       3.05385551e-03, 3.51119173e-03, 4.03701726e-03, 4.64158883e-03,\n",
       "       5.33669923e-03, 6.13590727e-03, 7.05480231e-03, 8.11130831e-03,\n",
       "       9.32603347e...\n",
       "       7.05480231e+01, 8.11130831e+01, 9.32603347e+01, 1.07226722e+02,\n",
       "       1.23284674e+02, 1.41747416e+02, 1.62975083e+02, 1.87381742e+02,\n",
       "       2.15443469e+02, 2.47707636e+02, 2.84803587e+02, 3.27454916e+02,\n",
       "       3.76493581e+02, 4.32876128e+02, 4.97702356e+02, 5.72236766e+02,\n",
       "       6.57933225e+02, 7.56463328e+02, 8.69749003e+02, 1.00000000e+03]),\n",
       "                                        'fit_intercept': [True, False]},\n",
       "                   scoring='neg_mean_squared_error')"
      ]
     },
     "execution_count": 28,
     "metadata": {},
     "output_type": "execute_result"
    }
   ],
   "source": [
    "param_dist = {\n",
    "    'alpha': np.logspace(-3, 3, 100),  # Range of alpha values to test\n",
    "    'fit_intercept': [True, False],\n",
    "}\n",
    "\n",
    "ridge = Ridge()\n",
    "#n_jobs=-1 means using all cpu cores\n",
    "random_search = RandomizedSearchCV(ridge, param_distributions=param_dist, n_iter=200, scoring='neg_mean_squared_error', cv=5, n_jobs=-1)\n",
    "\n",
    "\n",
    "random_search.fit(x_train, y_train)\n"
   ]
  },
  {
   "cell_type": "markdown",
   "id": "f4a7a966-e2a8-47a1-a260-f4f0dfefce53",
   "metadata": {},
   "source": [
    "Alpha (Regularization Strength):\n",
    "\n",
    "Analogy: Think of alpha as a knob on a stereo system to control the volume. If you turn it to the left (low values of alpha), the volume (the influence of regularization) is low, meaning the model can capture more details, potentially overfitting. If you turn it to the right (high values of alpha), the volume (the influence of regularization) is high, meaning the model simplifies and smooths out its predictions to avoid overfitting.\n",
    "Fit Intercept:\n",
    "\n",
    "Analogy: Imagine you are fitting a line through data points. If 'fit_intercept' is 'True,' it's like allowing the line to move up or down to best fit the data, similar to adjusting the line's intercept. If 'fit_intercept' is 'False,' it's like forcing the line to go through the origin (0,0) and not allowing it to shift up or down.\n",
    "Normalize:\n",
    "\n",
    "Analogy: Consider a recipe that requires you to add salt to a dish. If 'normalize' is 'True,' it's like ensuring the amount of salt you add is proportional to the other ingredients' quantities, maintaining a balance. If 'normalize' is 'False,' it means you add a fixed amount of salt, regardless of the other ingredient quantities. Normalizing helps maintain consistent scaling of the features, which can be important for some algorithms."
   ]
  },
  {
   "cell_type": "code",
   "execution_count": 29,
   "id": "7ff0897c-3ce1-4683-b137-0d756d70cd8d",
   "metadata": {
    "tags": []
   },
   "outputs": [],
   "source": [
    "# Get the best parameters\n",
    "best_params = random_search.best_params_\n",
    "\n",
    "# Get the best estimator (model)\n",
    "best_model = random_search.best_estimator_\n",
    "\n",
    "# You can then evaluate the best model on the test set and use it for predictions\n",
    "y_pred = best_model.predict(x_test)"
   ]
  },
  {
   "cell_type": "code",
   "execution_count": 30,
   "id": "313f4570-bf97-41fa-83d5-103bdf92cb3c",
   "metadata": {
    "tags": []
   },
   "outputs": [
    {
     "name": "stdout",
     "output_type": "stream",
     "text": [
      "best params:  {'fit_intercept': True, 'alpha': 1000.0}\n",
      "best model:  Ridge(alpha=1000.0)\n",
      "y prediction:  [[138.91411746]\n",
      " [120.27934599]\n",
      " [147.59804228]\n",
      " ...\n",
      " [141.98504913]\n",
      " [143.33482653]\n",
      " [129.88205541]]\n"
     ]
    }
   ],
   "source": [
    "print(\"best params: \", best_params)\n",
    "print(\"best model: \", best_model)\n",
    "print(\"y prediction: \", y_pred)\n"
   ]
  },
  {
   "cell_type": "markdown",
   "id": "4c540798-03a7-4379-a9af-a178fa779393",
   "metadata": {},
   "source": [
    "### Model Evaluation"
   ]
  },
  {
   "cell_type": "code",
   "execution_count": 31,
   "id": "0b2c1b42-d517-46e1-9bb6-c9af741cf812",
   "metadata": {
    "tags": []
   },
   "outputs": [
    {
     "name": "stdout",
     "output_type": "stream",
     "text": [
      "MAE: 138.00825768641872\n",
      "MSE: 36935.84038147647\n",
      "R-squared_Test: 0.11446396045142393\n",
      "Coefficients: [[ 0.01111585 -0.00876365  0.00146544]]\n"
     ]
    },
    {
     "data": {
      "text/html": [
       "<div>\n",
       "<style scoped>\n",
       "    .dataframe tbody tr th:only-of-type {\n",
       "        vertical-align: middle;\n",
       "    }\n",
       "\n",
       "    .dataframe tbody tr th {\n",
       "        vertical-align: top;\n",
       "    }\n",
       "\n",
       "    .dataframe thead th {\n",
       "        text-align: right;\n",
       "    }\n",
       "</style>\n",
       "<table border=\"1\" class=\"dataframe\">\n",
       "  <thead>\n",
       "    <tr style=\"text-align: right;\">\n",
       "      <th></th>\n",
       "      <th>coef</th>\n",
       "    </tr>\n",
       "  </thead>\n",
       "  <tbody>\n",
       "    <tr>\n",
       "      <th>replies_count</th>\n",
       "      <td>0.011116</td>\n",
       "    </tr>\n",
       "    <tr>\n",
       "      <th>retweets_count</th>\n",
       "      <td>-0.008764</td>\n",
       "    </tr>\n",
       "    <tr>\n",
       "      <th>likes_count</th>\n",
       "      <td>0.001465</td>\n",
       "    </tr>\n",
       "  </tbody>\n",
       "</table>\n",
       "</div>"
      ],
      "text/plain": [
       "                    coef\n",
       "replies_count   0.011116\n",
       "retweets_count -0.008764\n",
       "likes_count     0.001465"
      ]
     },
     "execution_count": 31,
     "metadata": {},
     "output_type": "execute_result"
    }
   ],
   "source": [
    "mae = mean_absolute_error(y_test, y_pred)\n",
    "mse = mean_squared_error(y_test, y_pred)\n",
    "r2_test = r2_score(y_test, y_pred)\n",
    "\n",
    "# Print evaluation metrics\n",
    "print(f'MAE: {mae}')\n",
    "print(f'MSE: {mse}')\n",
    "print(f'R-squared_Test: {r2_test}')\n",
    "\n",
    "# Model interpretation\n",
    "coefficients = best_model.coef_\n",
    "print('Coefficients:', coefficients)\n",
    "new = best_model.coef_.reshape(-1, 1)\n",
    "pd.DataFrame(data=new, index=x_train.columns, columns=['coef'])"
   ]
  },
  {
   "cell_type": "code",
   "execution_count": 32,
   "id": "70b46b4f-b374-4de2-93c7-9a48ef1b9b52",
   "metadata": {
    "tags": []
   },
   "outputs": [
    {
     "data": {
      "text/plain": [
       "2615.5245882185013"
      ]
     },
     "execution_count": 32,
     "metadata": {},
     "output_type": "execute_result"
    }
   ],
   "source": [
    "test_data = {\n",
    "    'replies_count': 1803,\n",
    "    'retweets_count': 16000,\n",
    "    'likes_count': 1771523,\n",
    "}\n",
    "\n",
    "input_data = pd.DataFrame(test_data, index = [0])\n",
    "\n",
    "predicted_goals = best_model.predict(input_data)\n",
    "\n",
    "predicted_goals[0][0]"
   ]
  },
  {
   "cell_type": "markdown",
   "id": "50581f53-0081-4d7a-93a3-0159634c20c5",
   "metadata": {},
   "source": [
    "## Limiting the data to 2019 to 2021"
   ]
  },
  {
   "cell_type": "markdown",
   "id": "4a880469-f9f1-4897-8c00-a9ee46d10e78",
   "metadata": {},
   "source": [
    "Elon Musk has increased in activity 2019. Checking to see if there will be mroe of a positive correlation"
   ]
  },
  {
   "cell_type": "code",
   "execution_count": 33,
   "id": "879c47c9-ad1e-42cd-876b-926be4b08a3b",
   "metadata": {
    "tags": []
   },
   "outputs": [],
   "source": [
    "start_date = '2019-01-01'\n",
    "end_date = '2021-04-09'"
   ]
  },
  {
   "cell_type": "code",
   "execution_count": 34,
   "id": "f5aef07f-ddf8-4ab1-a487-e5a4515c2d15",
   "metadata": {
    "tags": []
   },
   "outputs": [],
   "source": [
    "filtered_df = data_merged[(data_merged['date'] >= start_date) & (data_merged['date'] <= end_date)]"
   ]
  },
  {
   "cell_type": "code",
   "execution_count": 35,
   "id": "8598b6d8-4696-456d-9293-e2a919341cc5",
   "metadata": {
    "tags": []
   },
   "outputs": [
    {
     "data": {
      "text/html": [
       "<div>\n",
       "<style scoped>\n",
       "    .dataframe tbody tr th:only-of-type {\n",
       "        vertical-align: middle;\n",
       "    }\n",
       "\n",
       "    .dataframe tbody tr th {\n",
       "        vertical-align: top;\n",
       "    }\n",
       "\n",
       "    .dataframe thead th {\n",
       "        text-align: right;\n",
       "    }\n",
       "</style>\n",
       "<table border=\"1\" class=\"dataframe\">\n",
       "  <thead>\n",
       "    <tr style=\"text-align: right;\">\n",
       "      <th></th>\n",
       "      <th>replies_count</th>\n",
       "      <th>retweets_count</th>\n",
       "      <th>likes_count</th>\n",
       "      <th>date</th>\n",
       "      <th>High</th>\n",
       "      <th>Low</th>\n",
       "      <th>average_stock</th>\n",
       "    </tr>\n",
       "  </thead>\n",
       "  <tbody>\n",
       "    <tr>\n",
       "      <th>0</th>\n",
       "      <td>107</td>\n",
       "      <td>60</td>\n",
       "      <td>2064</td>\n",
       "      <td>2021-04-09</td>\n",
       "      <td>680.969971</td>\n",
       "      <td>669.429993</td>\n",
       "      <td>675.199982</td>\n",
       "    </tr>\n",
       "    <tr>\n",
       "      <th>1</th>\n",
       "      <td>258</td>\n",
       "      <td>115</td>\n",
       "      <td>2383</td>\n",
       "      <td>2021-04-09</td>\n",
       "      <td>680.969971</td>\n",
       "      <td>669.429993</td>\n",
       "      <td>675.199982</td>\n",
       "    </tr>\n",
       "    <tr>\n",
       "      <th>2</th>\n",
       "      <td>200</td>\n",
       "      <td>195</td>\n",
       "      <td>4882</td>\n",
       "      <td>2021-04-09</td>\n",
       "      <td>680.969971</td>\n",
       "      <td>669.429993</td>\n",
       "      <td>675.199982</td>\n",
       "    </tr>\n",
       "    <tr>\n",
       "      <th>3</th>\n",
       "      <td>589</td>\n",
       "      <td>1953</td>\n",
       "      <td>30045</td>\n",
       "      <td>2021-04-09</td>\n",
       "      <td>680.969971</td>\n",
       "      <td>669.429993</td>\n",
       "      <td>675.199982</td>\n",
       "    </tr>\n",
       "    <tr>\n",
       "      <th>4</th>\n",
       "      <td>514</td>\n",
       "      <td>654</td>\n",
       "      <td>5289</td>\n",
       "      <td>2021-04-09</td>\n",
       "      <td>680.969971</td>\n",
       "      <td>669.429993</td>\n",
       "      <td>675.199982</td>\n",
       "    </tr>\n",
       "    <tr>\n",
       "      <th>...</th>\n",
       "      <td>...</td>\n",
       "      <td>...</td>\n",
       "      <td>...</td>\n",
       "      <td>...</td>\n",
       "      <td>...</td>\n",
       "      <td>...</td>\n",
       "      <td>...</td>\n",
       "    </tr>\n",
       "    <tr>\n",
       "      <th>4912</th>\n",
       "      <td>20</td>\n",
       "      <td>59</td>\n",
       "      <td>1074</td>\n",
       "      <td>2019-01-03</td>\n",
       "      <td>61.880001</td>\n",
       "      <td>59.476002</td>\n",
       "      <td>60.678002</td>\n",
       "    </tr>\n",
       "    <tr>\n",
       "      <th>4913</th>\n",
       "      <td>31</td>\n",
       "      <td>50</td>\n",
       "      <td>744</td>\n",
       "      <td>2019-01-03</td>\n",
       "      <td>61.880001</td>\n",
       "      <td>59.476002</td>\n",
       "      <td>60.678002</td>\n",
       "    </tr>\n",
       "    <tr>\n",
       "      <th>4914</th>\n",
       "      <td>69</td>\n",
       "      <td>54</td>\n",
       "      <td>1002</td>\n",
       "      <td>2019-01-03</td>\n",
       "      <td>61.880001</td>\n",
       "      <td>59.476002</td>\n",
       "      <td>60.678002</td>\n",
       "    </tr>\n",
       "    <tr>\n",
       "      <th>4915</th>\n",
       "      <td>186</td>\n",
       "      <td>444</td>\n",
       "      <td>14233</td>\n",
       "      <td>2019-01-03</td>\n",
       "      <td>61.880001</td>\n",
       "      <td>59.476002</td>\n",
       "      <td>60.678002</td>\n",
       "    </tr>\n",
       "    <tr>\n",
       "      <th>4916</th>\n",
       "      <td>689</td>\n",
       "      <td>2348</td>\n",
       "      <td>32595</td>\n",
       "      <td>2019-01-03</td>\n",
       "      <td>61.880001</td>\n",
       "      <td>59.476002</td>\n",
       "      <td>60.678002</td>\n",
       "    </tr>\n",
       "  </tbody>\n",
       "</table>\n",
       "<p>4917 rows × 7 columns</p>\n",
       "</div>"
      ],
      "text/plain": [
       "      replies_count  retweets_count  likes_count        date        High  \\\n",
       "0               107              60         2064  2021-04-09  680.969971   \n",
       "1               258             115         2383  2021-04-09  680.969971   \n",
       "2               200             195         4882  2021-04-09  680.969971   \n",
       "3               589            1953        30045  2021-04-09  680.969971   \n",
       "4               514             654         5289  2021-04-09  680.969971   \n",
       "...             ...             ...          ...         ...         ...   \n",
       "4912             20              59         1074  2019-01-03   61.880001   \n",
       "4913             31              50          744  2019-01-03   61.880001   \n",
       "4914             69              54         1002  2019-01-03   61.880001   \n",
       "4915            186             444        14233  2019-01-03   61.880001   \n",
       "4916            689            2348        32595  2019-01-03   61.880001   \n",
       "\n",
       "             Low  average_stock  \n",
       "0     669.429993     675.199982  \n",
       "1     669.429993     675.199982  \n",
       "2     669.429993     675.199982  \n",
       "3     669.429993     675.199982  \n",
       "4     669.429993     675.199982  \n",
       "...          ...            ...  \n",
       "4912   59.476002      60.678002  \n",
       "4913   59.476002      60.678002  \n",
       "4914   59.476002      60.678002  \n",
       "4915   59.476002      60.678002  \n",
       "4916   59.476002      60.678002  \n",
       "\n",
       "[4917 rows x 7 columns]"
      ]
     },
     "execution_count": 35,
     "metadata": {},
     "output_type": "execute_result"
    }
   ],
   "source": [
    "filtered_df"
   ]
  },
  {
   "cell_type": "markdown",
   "id": "61e9192d-34e0-4433-bcfa-964ecf77b198",
   "metadata": {},
   "source": [
    "### Dependant and Independant"
   ]
  },
  {
   "cell_type": "code",
   "execution_count": 36,
   "id": "52d97fc7-f7b6-44de-9675-2dda7cbc7c00",
   "metadata": {
    "tags": []
   },
   "outputs": [],
   "source": [
    "y = DataFrame(filtered_df, columns=['average_stock'])\n",
    "x = DataFrame(filtered_df, columns=['replies_count', 'retweets_count', 'likes_count'])"
   ]
  },
  {
   "cell_type": "code",
   "execution_count": 37,
   "id": "09b39b88-2453-4b44-ab0f-11341bf076f8",
   "metadata": {
    "tags": []
   },
   "outputs": [
    {
     "data": {
      "text/html": [
       "<style>#sk-container-id-3 {color: black;background-color: white;}#sk-container-id-3 pre{padding: 0;}#sk-container-id-3 div.sk-toggleable {background-color: white;}#sk-container-id-3 label.sk-toggleable__label {cursor: pointer;display: block;width: 100%;margin-bottom: 0;padding: 0.3em;box-sizing: border-box;text-align: center;}#sk-container-id-3 label.sk-toggleable__label-arrow:before {content: \"▸\";float: left;margin-right: 0.25em;color: #696969;}#sk-container-id-3 label.sk-toggleable__label-arrow:hover:before {color: black;}#sk-container-id-3 div.sk-estimator:hover label.sk-toggleable__label-arrow:before {color: black;}#sk-container-id-3 div.sk-toggleable__content {max-height: 0;max-width: 0;overflow: hidden;text-align: left;background-color: #f0f8ff;}#sk-container-id-3 div.sk-toggleable__content pre {margin: 0.2em;color: black;border-radius: 0.25em;background-color: #f0f8ff;}#sk-container-id-3 input.sk-toggleable__control:checked~div.sk-toggleable__content {max-height: 200px;max-width: 100%;overflow: auto;}#sk-container-id-3 input.sk-toggleable__control:checked~label.sk-toggleable__label-arrow:before {content: \"▾\";}#sk-container-id-3 div.sk-estimator input.sk-toggleable__control:checked~label.sk-toggleable__label {background-color: #d4ebff;}#sk-container-id-3 div.sk-label input.sk-toggleable__control:checked~label.sk-toggleable__label {background-color: #d4ebff;}#sk-container-id-3 input.sk-hidden--visually {border: 0;clip: rect(1px 1px 1px 1px);clip: rect(1px, 1px, 1px, 1px);height: 1px;margin: -1px;overflow: hidden;padding: 0;position: absolute;width: 1px;}#sk-container-id-3 div.sk-estimator {font-family: monospace;background-color: #f0f8ff;border: 1px dotted black;border-radius: 0.25em;box-sizing: border-box;margin-bottom: 0.5em;}#sk-container-id-3 div.sk-estimator:hover {background-color: #d4ebff;}#sk-container-id-3 div.sk-parallel-item::after {content: \"\";width: 100%;border-bottom: 1px solid gray;flex-grow: 1;}#sk-container-id-3 div.sk-label:hover label.sk-toggleable__label {background-color: #d4ebff;}#sk-container-id-3 div.sk-serial::before {content: \"\";position: absolute;border-left: 1px solid gray;box-sizing: border-box;top: 0;bottom: 0;left: 50%;z-index: 0;}#sk-container-id-3 div.sk-serial {display: flex;flex-direction: column;align-items: center;background-color: white;padding-right: 0.2em;padding-left: 0.2em;position: relative;}#sk-container-id-3 div.sk-item {position: relative;z-index: 1;}#sk-container-id-3 div.sk-parallel {display: flex;align-items: stretch;justify-content: center;background-color: white;position: relative;}#sk-container-id-3 div.sk-item::before, #sk-container-id-3 div.sk-parallel-item::before {content: \"\";position: absolute;border-left: 1px solid gray;box-sizing: border-box;top: 0;bottom: 0;left: 50%;z-index: -1;}#sk-container-id-3 div.sk-parallel-item {display: flex;flex-direction: column;z-index: 1;position: relative;background-color: white;}#sk-container-id-3 div.sk-parallel-item:first-child::after {align-self: flex-end;width: 50%;}#sk-container-id-3 div.sk-parallel-item:last-child::after {align-self: flex-start;width: 50%;}#sk-container-id-3 div.sk-parallel-item:only-child::after {width: 0;}#sk-container-id-3 div.sk-dashed-wrapped {border: 1px dashed gray;margin: 0 0.4em 0.5em 0.4em;box-sizing: border-box;padding-bottom: 0.4em;background-color: white;}#sk-container-id-3 div.sk-label label {font-family: monospace;font-weight: bold;display: inline-block;line-height: 1.2em;}#sk-container-id-3 div.sk-label-container {text-align: center;}#sk-container-id-3 div.sk-container {/* jupyter's `normalize.less` sets `[hidden] { display: none; }` but bootstrap.min.css set `[hidden] { display: none !important; }` so we also need the `!important` here to be able to override the default hidden behavior on the sphinx rendered scikit-learn.org. See: https://github.com/scikit-learn/scikit-learn/issues/21755 */display: inline-block !important;position: relative;}#sk-container-id-3 div.sk-text-repr-fallback {display: none;}</style><div id=\"sk-container-id-3\" class=\"sk-top-container\"><div class=\"sk-text-repr-fallback\"><pre>LinearRegression()</pre><b>In a Jupyter environment, please rerun this cell to show the HTML representation or trust the notebook. <br />On GitHub, the HTML representation is unable to render, please try loading this page with nbviewer.org.</b></div><div class=\"sk-container\" hidden><div class=\"sk-item\"><div class=\"sk-estimator sk-toggleable\"><input class=\"sk-toggleable__control sk-hidden--visually\" id=\"sk-estimator-id-5\" type=\"checkbox\" checked><label for=\"sk-estimator-id-5\" class=\"sk-toggleable__label sk-toggleable__label-arrow\">LinearRegression</label><div class=\"sk-toggleable__content\"><pre>LinearRegression()</pre></div></div></div></div></div>"
      ],
      "text/plain": [
       "LinearRegression()"
      ]
     },
     "execution_count": 37,
     "metadata": {},
     "output_type": "execute_result"
    }
   ],
   "source": [
    "x_train, x_test, y_train, y_test = train_test_split(x, y, test_size=0.2,\n",
    "                                                    random_state=24)\n",
    "\n",
    "regr = LinearRegression()\n",
    "regr.fit(x_train, y_train)"
   ]
  },
  {
   "cell_type": "code",
   "execution_count": 38,
   "id": "3439943e-5c40-42e9-90ce-65254e590161",
   "metadata": {
    "tags": []
   },
   "outputs": [
    {
     "name": "stdout",
     "output_type": "stream",
     "text": [
      "Intercept [210.32964404]\n"
     ]
    },
    {
     "data": {
      "text/html": [
       "<div>\n",
       "<style scoped>\n",
       "    .dataframe tbody tr th:only-of-type {\n",
       "        vertical-align: middle;\n",
       "    }\n",
       "\n",
       "    .dataframe tbody tr th {\n",
       "        vertical-align: top;\n",
       "    }\n",
       "\n",
       "    .dataframe thead th {\n",
       "        text-align: right;\n",
       "    }\n",
       "</style>\n",
       "<table border=\"1\" class=\"dataframe\">\n",
       "  <thead>\n",
       "    <tr style=\"text-align: right;\">\n",
       "      <th></th>\n",
       "      <th>coef</th>\n",
       "    </tr>\n",
       "  </thead>\n",
       "  <tbody>\n",
       "    <tr>\n",
       "      <th>replies_count</th>\n",
       "      <td>0.015536</td>\n",
       "    </tr>\n",
       "    <tr>\n",
       "      <th>retweets_count</th>\n",
       "      <td>-0.006926</td>\n",
       "    </tr>\n",
       "    <tr>\n",
       "      <th>likes_count</th>\n",
       "      <td>0.000940</td>\n",
       "    </tr>\n",
       "  </tbody>\n",
       "</table>\n",
       "</div>"
      ],
      "text/plain": [
       "                    coef\n",
       "replies_count   0.015536\n",
       "retweets_count -0.006926\n",
       "likes_count     0.000940"
      ]
     },
     "execution_count": 38,
     "metadata": {},
     "output_type": "execute_result"
    }
   ],
   "source": [
    "print(\"Intercept\", regr.intercept_)\n",
    "coef_data = regr.coef_.reshape(-1, 1)\n",
    "pd.DataFrame(data=coef_data, index=x_train.columns, columns=['coef'])"
   ]
  },
  {
   "cell_type": "code",
   "execution_count": 39,
   "id": "7ec6bd8f-1516-455f-863a-41ef10c3ce46",
   "metadata": {
    "tags": []
   },
   "outputs": [
    {
     "name": "stdout",
     "output_type": "stream",
     "text": [
      "Trainng data r-squared: 0.08085050907942903\n",
      "Test data r-squared: 0.0568124602561042\n"
     ]
    }
   ],
   "source": [
    "print('Trainng data r-squared:', regr.score(x_train, y_train))\n",
    "print('Test data r-squared:', regr.score(x_test, y_test))"
   ]
  },
  {
   "cell_type": "markdown",
   "id": "b326ebf5-7033-4874-86dc-bf5a601c1d6c",
   "metadata": {},
   "source": [
    "### HyperParameters"
   ]
  },
  {
   "cell_type": "code",
   "execution_count": 40,
   "id": "5dfc11f0-9113-4b26-a015-7248301aa75f",
   "metadata": {
    "tags": []
   },
   "outputs": [
    {
     "data": {
      "text/html": [
       "<style>#sk-container-id-4 {color: black;background-color: white;}#sk-container-id-4 pre{padding: 0;}#sk-container-id-4 div.sk-toggleable {background-color: white;}#sk-container-id-4 label.sk-toggleable__label {cursor: pointer;display: block;width: 100%;margin-bottom: 0;padding: 0.3em;box-sizing: border-box;text-align: center;}#sk-container-id-4 label.sk-toggleable__label-arrow:before {content: \"▸\";float: left;margin-right: 0.25em;color: #696969;}#sk-container-id-4 label.sk-toggleable__label-arrow:hover:before {color: black;}#sk-container-id-4 div.sk-estimator:hover label.sk-toggleable__label-arrow:before {color: black;}#sk-container-id-4 div.sk-toggleable__content {max-height: 0;max-width: 0;overflow: hidden;text-align: left;background-color: #f0f8ff;}#sk-container-id-4 div.sk-toggleable__content pre {margin: 0.2em;color: black;border-radius: 0.25em;background-color: #f0f8ff;}#sk-container-id-4 input.sk-toggleable__control:checked~div.sk-toggleable__content {max-height: 200px;max-width: 100%;overflow: auto;}#sk-container-id-4 input.sk-toggleable__control:checked~label.sk-toggleable__label-arrow:before {content: \"▾\";}#sk-container-id-4 div.sk-estimator input.sk-toggleable__control:checked~label.sk-toggleable__label {background-color: #d4ebff;}#sk-container-id-4 div.sk-label input.sk-toggleable__control:checked~label.sk-toggleable__label {background-color: #d4ebff;}#sk-container-id-4 input.sk-hidden--visually {border: 0;clip: rect(1px 1px 1px 1px);clip: rect(1px, 1px, 1px, 1px);height: 1px;margin: -1px;overflow: hidden;padding: 0;position: absolute;width: 1px;}#sk-container-id-4 div.sk-estimator {font-family: monospace;background-color: #f0f8ff;border: 1px dotted black;border-radius: 0.25em;box-sizing: border-box;margin-bottom: 0.5em;}#sk-container-id-4 div.sk-estimator:hover {background-color: #d4ebff;}#sk-container-id-4 div.sk-parallel-item::after {content: \"\";width: 100%;border-bottom: 1px solid gray;flex-grow: 1;}#sk-container-id-4 div.sk-label:hover label.sk-toggleable__label {background-color: #d4ebff;}#sk-container-id-4 div.sk-serial::before {content: \"\";position: absolute;border-left: 1px solid gray;box-sizing: border-box;top: 0;bottom: 0;left: 50%;z-index: 0;}#sk-container-id-4 div.sk-serial {display: flex;flex-direction: column;align-items: center;background-color: white;padding-right: 0.2em;padding-left: 0.2em;position: relative;}#sk-container-id-4 div.sk-item {position: relative;z-index: 1;}#sk-container-id-4 div.sk-parallel {display: flex;align-items: stretch;justify-content: center;background-color: white;position: relative;}#sk-container-id-4 div.sk-item::before, #sk-container-id-4 div.sk-parallel-item::before {content: \"\";position: absolute;border-left: 1px solid gray;box-sizing: border-box;top: 0;bottom: 0;left: 50%;z-index: -1;}#sk-container-id-4 div.sk-parallel-item {display: flex;flex-direction: column;z-index: 1;position: relative;background-color: white;}#sk-container-id-4 div.sk-parallel-item:first-child::after {align-self: flex-end;width: 50%;}#sk-container-id-4 div.sk-parallel-item:last-child::after {align-self: flex-start;width: 50%;}#sk-container-id-4 div.sk-parallel-item:only-child::after {width: 0;}#sk-container-id-4 div.sk-dashed-wrapped {border: 1px dashed gray;margin: 0 0.4em 0.5em 0.4em;box-sizing: border-box;padding-bottom: 0.4em;background-color: white;}#sk-container-id-4 div.sk-label label {font-family: monospace;font-weight: bold;display: inline-block;line-height: 1.2em;}#sk-container-id-4 div.sk-label-container {text-align: center;}#sk-container-id-4 div.sk-container {/* jupyter's `normalize.less` sets `[hidden] { display: none; }` but bootstrap.min.css set `[hidden] { display: none !important; }` so we also need the `!important` here to be able to override the default hidden behavior on the sphinx rendered scikit-learn.org. See: https://github.com/scikit-learn/scikit-learn/issues/21755 */display: inline-block !important;position: relative;}#sk-container-id-4 div.sk-text-repr-fallback {display: none;}</style><div id=\"sk-container-id-4\" class=\"sk-top-container\"><div class=\"sk-text-repr-fallback\"><pre>RandomizedSearchCV(cv=8, estimator=Ridge(), n_iter=200, n_jobs=-1,\n",
       "                   param_distributions={&#x27;alpha&#x27;: array([1.00000000e-03, 1.14975700e-03, 1.32194115e-03, 1.51991108e-03,\n",
       "       1.74752840e-03, 2.00923300e-03, 2.31012970e-03, 2.65608778e-03,\n",
       "       3.05385551e-03, 3.51119173e-03, 4.03701726e-03, 4.64158883e-03,\n",
       "       5.33669923e-03, 6.13590727e-03, 7.05480231e-03, 8.11130831e-03,\n",
       "       9.32603347e...\n",
       "       7.05480231e+01, 8.11130831e+01, 9.32603347e+01, 1.07226722e+02,\n",
       "       1.23284674e+02, 1.41747416e+02, 1.62975083e+02, 1.87381742e+02,\n",
       "       2.15443469e+02, 2.47707636e+02, 2.84803587e+02, 3.27454916e+02,\n",
       "       3.76493581e+02, 4.32876128e+02, 4.97702356e+02, 5.72236766e+02,\n",
       "       6.57933225e+02, 7.56463328e+02, 8.69749003e+02, 1.00000000e+03]),\n",
       "                                        &#x27;fit_intercept&#x27;: [True, False]},\n",
       "                   scoring=&#x27;neg_mean_squared_error&#x27;)</pre><b>In a Jupyter environment, please rerun this cell to show the HTML representation or trust the notebook. <br />On GitHub, the HTML representation is unable to render, please try loading this page with nbviewer.org.</b></div><div class=\"sk-container\" hidden><div class=\"sk-item sk-dashed-wrapped\"><div class=\"sk-label-container\"><div class=\"sk-label sk-toggleable\"><input class=\"sk-toggleable__control sk-hidden--visually\" id=\"sk-estimator-id-6\" type=\"checkbox\" ><label for=\"sk-estimator-id-6\" class=\"sk-toggleable__label sk-toggleable__label-arrow\">RandomizedSearchCV</label><div class=\"sk-toggleable__content\"><pre>RandomizedSearchCV(cv=8, estimator=Ridge(), n_iter=200, n_jobs=-1,\n",
       "                   param_distributions={&#x27;alpha&#x27;: array([1.00000000e-03, 1.14975700e-03, 1.32194115e-03, 1.51991108e-03,\n",
       "       1.74752840e-03, 2.00923300e-03, 2.31012970e-03, 2.65608778e-03,\n",
       "       3.05385551e-03, 3.51119173e-03, 4.03701726e-03, 4.64158883e-03,\n",
       "       5.33669923e-03, 6.13590727e-03, 7.05480231e-03, 8.11130831e-03,\n",
       "       9.32603347e...\n",
       "       7.05480231e+01, 8.11130831e+01, 9.32603347e+01, 1.07226722e+02,\n",
       "       1.23284674e+02, 1.41747416e+02, 1.62975083e+02, 1.87381742e+02,\n",
       "       2.15443469e+02, 2.47707636e+02, 2.84803587e+02, 3.27454916e+02,\n",
       "       3.76493581e+02, 4.32876128e+02, 4.97702356e+02, 5.72236766e+02,\n",
       "       6.57933225e+02, 7.56463328e+02, 8.69749003e+02, 1.00000000e+03]),\n",
       "                                        &#x27;fit_intercept&#x27;: [True, False]},\n",
       "                   scoring=&#x27;neg_mean_squared_error&#x27;)</pre></div></div></div><div class=\"sk-parallel\"><div class=\"sk-parallel-item\"><div class=\"sk-item\"><div class=\"sk-label-container\"><div class=\"sk-label sk-toggleable\"><input class=\"sk-toggleable__control sk-hidden--visually\" id=\"sk-estimator-id-7\" type=\"checkbox\" ><label for=\"sk-estimator-id-7\" class=\"sk-toggleable__label sk-toggleable__label-arrow\">estimator: Ridge</label><div class=\"sk-toggleable__content\"><pre>Ridge()</pre></div></div></div><div class=\"sk-serial\"><div class=\"sk-item\"><div class=\"sk-estimator sk-toggleable\"><input class=\"sk-toggleable__control sk-hidden--visually\" id=\"sk-estimator-id-8\" type=\"checkbox\" ><label for=\"sk-estimator-id-8\" class=\"sk-toggleable__label sk-toggleable__label-arrow\">Ridge</label><div class=\"sk-toggleable__content\"><pre>Ridge()</pre></div></div></div></div></div></div></div></div></div></div>"
      ],
      "text/plain": [
       "RandomizedSearchCV(cv=8, estimator=Ridge(), n_iter=200, n_jobs=-1,\n",
       "                   param_distributions={'alpha': array([1.00000000e-03, 1.14975700e-03, 1.32194115e-03, 1.51991108e-03,\n",
       "       1.74752840e-03, 2.00923300e-03, 2.31012970e-03, 2.65608778e-03,\n",
       "       3.05385551e-03, 3.51119173e-03, 4.03701726e-03, 4.64158883e-03,\n",
       "       5.33669923e-03, 6.13590727e-03, 7.05480231e-03, 8.11130831e-03,\n",
       "       9.32603347e...\n",
       "       7.05480231e+01, 8.11130831e+01, 9.32603347e+01, 1.07226722e+02,\n",
       "       1.23284674e+02, 1.41747416e+02, 1.62975083e+02, 1.87381742e+02,\n",
       "       2.15443469e+02, 2.47707636e+02, 2.84803587e+02, 3.27454916e+02,\n",
       "       3.76493581e+02, 4.32876128e+02, 4.97702356e+02, 5.72236766e+02,\n",
       "       6.57933225e+02, 7.56463328e+02, 8.69749003e+02, 1.00000000e+03]),\n",
       "                                        'fit_intercept': [True, False]},\n",
       "                   scoring='neg_mean_squared_error')"
      ]
     },
     "execution_count": 40,
     "metadata": {},
     "output_type": "execute_result"
    }
   ],
   "source": [
    "param_dist = {\n",
    "    'alpha': np.logspace(-3, 3, 100),  # Range of alpha values to test\n",
    "    'fit_intercept': [True, False],\n",
    "}\n",
    "\n",
    "ridge = Ridge()\n",
    "#n_jobs=-1 means using all cpu cores\n",
    "random_search = RandomizedSearchCV(ridge, param_distributions=param_dist, n_iter=200, scoring='neg_mean_squared_error', cv=8, n_jobs=-1)\n",
    "\n",
    "\n",
    "random_search.fit(x_train, y_train)\n"
   ]
  },
  {
   "cell_type": "code",
   "execution_count": 41,
   "id": "8f88e7ca-351e-4b07-88c2-76fc398a1924",
   "metadata": {
    "tags": []
   },
   "outputs": [],
   "source": [
    "# Get the best parameters\n",
    "best_params = random_search.best_params_\n",
    "\n",
    "# Get the best estimator (model)\n",
    "best_model = random_search.best_estimator_\n",
    "\n",
    "# You can then evaluate the best model on the test set and use it for predictions\n",
    "y_pred = best_model.predict(x_test)"
   ]
  },
  {
   "cell_type": "code",
   "execution_count": 42,
   "id": "e2ddf7be-4846-4fcd-95b4-c8f303763883",
   "metadata": {
    "tags": []
   },
   "outputs": [
    {
     "name": "stdout",
     "output_type": "stream",
     "text": [
      "MAE: 183.72813360174055\n",
      "MSE: 50943.088570952124\n",
      "R-squared_Test: 0.0568124607940893\n",
      "Coefficients: [[ 0.01553565 -0.00692603  0.00093998]]\n"
     ]
    },
    {
     "data": {
      "text/html": [
       "<div>\n",
       "<style scoped>\n",
       "    .dataframe tbody tr th:only-of-type {\n",
       "        vertical-align: middle;\n",
       "    }\n",
       "\n",
       "    .dataframe tbody tr th {\n",
       "        vertical-align: top;\n",
       "    }\n",
       "\n",
       "    .dataframe thead th {\n",
       "        text-align: right;\n",
       "    }\n",
       "</style>\n",
       "<table border=\"1\" class=\"dataframe\">\n",
       "  <thead>\n",
       "    <tr style=\"text-align: right;\">\n",
       "      <th></th>\n",
       "      <th>coef</th>\n",
       "    </tr>\n",
       "  </thead>\n",
       "  <tbody>\n",
       "    <tr>\n",
       "      <th>replies_count</th>\n",
       "      <td>0.015536</td>\n",
       "    </tr>\n",
       "    <tr>\n",
       "      <th>retweets_count</th>\n",
       "      <td>-0.006926</td>\n",
       "    </tr>\n",
       "    <tr>\n",
       "      <th>likes_count</th>\n",
       "      <td>0.000940</td>\n",
       "    </tr>\n",
       "  </tbody>\n",
       "</table>\n",
       "</div>"
      ],
      "text/plain": [
       "                    coef\n",
       "replies_count   0.015536\n",
       "retweets_count -0.006926\n",
       "likes_count     0.000940"
      ]
     },
     "execution_count": 42,
     "metadata": {},
     "output_type": "execute_result"
    }
   ],
   "source": [
    "mae = mean_absolute_error(y_test, y_pred)\n",
    "mse = mean_squared_error(y_test, y_pred)\n",
    "r2_test = r2_score(y_test, y_pred)\n",
    "\n",
    "# Print evaluation metrics\n",
    "print(f'MAE: {mae}')\n",
    "print(f'MSE: {mse}')\n",
    "print(f'R-squared_Test: {r2_test}')\n",
    "\n",
    "# Model interpretation\n",
    "coefficients = best_model.coef_\n",
    "print('Coefficients:', coefficients)\n",
    "new = best_model.coef_.reshape(-1, 1)\n",
    "pd.DataFrame(data=new, index=x_train.columns, columns=['coef'])"
   ]
  },
  {
   "cell_type": "markdown",
   "id": "376cd063-ce14-4d98-84ef-e31aa28f0f8b",
   "metadata": {},
   "source": [
    "### Testing Model"
   ]
  },
  {
   "cell_type": "code",
   "execution_count": 43,
   "id": "f2fcd9c3-c2af-4e3f-9a05-282f82a6a70d",
   "metadata": {
    "tags": []
   },
   "outputs": [
    {
     "data": {
      "text/plain": [
       "1792.7155680756912"
      ]
     },
     "execution_count": 43,
     "metadata": {},
     "output_type": "execute_result"
    }
   ],
   "source": [
    "test_data = {\n",
    "    'replies_count': 1803,\n",
    "    'retweets_count': 16000,\n",
    "    'likes_count': 1771523,\n",
    "}\n",
    "\n",
    "input_data = pd.DataFrame(test_data, index = [0])\n",
    "\n",
    "predicted_goals = best_model.predict(input_data)\n",
    "\n",
    "predicted_goals[0][0]"
   ]
  },
  {
   "cell_type": "markdown",
   "id": "aeb2eda7-3355-4f4d-92a8-8a54a36d6408",
   "metadata": {},
   "source": [
    "# Export Model"
   ]
  },
  {
   "cell_type": "code",
   "execution_count": 44,
   "id": "b1c21246-4c97-4df0-b97d-c137d3607ba6",
   "metadata": {
    "tags": []
   },
   "outputs": [
    {
     "data": {
      "text/plain": [
       "['model_info.pkl']"
      ]
     },
     "execution_count": 44,
     "metadata": {},
     "output_type": "execute_result"
    }
   ],
   "source": [
    "model_filename = \"Tesla_Elon_Regression_Model.pkl\"\n",
    "\n",
    "joblib.dump(best_model, model_filename)\n",
    "\n",
    "model_info = {\n",
    "    \"model\": best_model,\n",
    "    \"features\": list(x.columns)\n",
    "}\n",
    "\n",
    "joblib.dump(model_info, \"model_info.pkl\")"
   ]
  },
  {
   "cell_type": "markdown",
   "id": "8a7077e1-0b21-47b6-98cd-d1e4949f4cfb",
   "metadata": {},
   "source": []
  }
 ],
 "metadata": {
  "kernelspec": {
   "display_name": "Python 3 (ipykernel)",
   "language": "python",
   "name": "python3"
  },
  "language_info": {
   "codemirror_mode": {
    "name": "ipython",
    "version": 3
   },
   "file_extension": ".py",
   "mimetype": "text/x-python",
   "name": "python",
   "nbconvert_exporter": "python",
   "pygments_lexer": "ipython3",
   "version": "3.11.3"
  }
 },
 "nbformat": 4,
 "nbformat_minor": 5
}
