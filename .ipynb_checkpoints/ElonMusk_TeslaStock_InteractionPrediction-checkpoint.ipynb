{
 "cells": [
  {
   "cell_type": "markdown",
   "id": "132e8ea4-9ee9-4c56-90f9-8d69ebc209b0",
   "metadata": {
    "tags": []
   },
   "source": [
    "# Tesla Stock Market prediction based on Elon Musk Tweet Interaction"
   ]
  },
  {
   "cell_type": "code",
   "execution_count": null,
   "id": "ec2269a2-7e48-4d5a-a4e3-8a97e89ae6ab",
   "metadata": {
    "tags": []
   },
   "outputs": [],
   "source": [
    "import pandas as pd\n",
    "from pandas import DataFrame\n",
    "import matplotlib.pyplot as plt\n",
    "from sklearn.model_selection import RandomizedSearchCV\n",
    "from sklearn.linear_model import Ridge\n",
    "from sklearn.metrics import mean_absolute_error, mean_squared_error, r2_score\n",
    "\n",
    "from sklearn.model_selection import train_test_split\n",
    "from sklearn.linear_model import LinearRegression\n",
    "import matplotlib.pyplot as plt\n",
    "\n",
    "import numpy as np\n",
    "import seaborn as sns"
   ]
  },
  {
   "cell_type": "code",
   "execution_count": null,
   "id": "c6187f7c-31dd-4179-bc1d-d77418610961",
   "metadata": {
    "tags": []
   },
   "outputs": [],
   "source": [
    "tesla_stock_data = pd.read_csv(\"TSLA.csv\")\n",
    "elon_tweets_data = pd.read_csv(\"TweetsElonMusk.csv\")"
   ]
  },
  {
   "cell_type": "markdown",
   "id": "605482a4-cf58-4f16-be9b-f1e3899d70ec",
   "metadata": {
    "tags": []
   },
   "source": [
    "## Describing Datasets"
   ]
  },
  {
   "cell_type": "markdown",
   "id": "e02d2812-f733-4c6a-9d17-dd7dc18c220f",
   "metadata": {},
   "source": [
    "### Tesla Data"
   ]
  },
  {
   "cell_type": "code",
   "execution_count": null,
   "id": "148006e2-16d8-4ecd-87e2-d760f9d2faaf",
   "metadata": {
    "tags": []
   },
   "outputs": [],
   "source": [
    "tesla_stock_data.describe()"
   ]
  },
  {
   "cell_type": "markdown",
   "id": "1cd225eb-f3aa-41d7-9bad-1fd500d68fe7",
   "metadata": {},
   "source": [
    "### Elon Musk Data"
   ]
  },
  {
   "cell_type": "code",
   "execution_count": null,
   "id": "0e0e3f97-6b6f-4cf5-b8fb-e0f73961f5d3",
   "metadata": {
    "tags": []
   },
   "outputs": [],
   "source": [
    "elon_tweets_data.describe()"
   ]
  },
  {
   "cell_type": "markdown",
   "id": "b873baa0-a421-45d6-9f98-e6da8a21eab6",
   "metadata": {},
   "source": [
    "## Combine Datasets and Refine"
   ]
  },
  {
   "cell_type": "code",
   "execution_count": null,
   "id": "10a4449f-5d17-4b8c-a5b4-50504e000c3b",
   "metadata": {
    "tags": []
   },
   "outputs": [],
   "source": [
    "refined_elon = DataFrame(elon_tweets_data, columns=['replies_count', 'retweets_count', 'likes_count', 'date'])\n",
    "refined_tesla_stock = DataFrame(tesla_stock_data, columns=['High', 'Low', 'Date'])\n",
    "refined_tesla_stock = refined_tesla_stock.rename(columns={'Date': 'date'})"
   ]
  },
  {
   "cell_type": "code",
   "execution_count": null,
   "id": "69b317ed-9769-4152-b6ac-dc39691583e1",
   "metadata": {
    "tags": []
   },
   "outputs": [],
   "source": [
    "sorted_elon = refined_elon.sort_values(by='date', ascending=True)\n",
    "sorted_tesla = refined_tesla_stock.sort_values(by='date', ascending=True)"
   ]
  },
  {
   "cell_type": "markdown",
   "id": "6b54c932-f86b-4400-b5e3-7e6e0ca4c29f",
   "metadata": {},
   "source": [
    "#### Merged dataframes"
   ]
  },
  {
   "cell_type": "code",
   "execution_count": null,
   "id": "78a17ac6-a7b2-4adc-833f-c253b9952c26",
   "metadata": {
    "tags": []
   },
   "outputs": [],
   "source": [
    "data_merged = pd.merge(refined_elon, refined_tesla_stock, on='date', how='inner')\n",
    "# create everage row\n",
    "data_merged['average_stock'] = (data_merged['High'] + data_merged['Low']) /2\n",
    "\n",
    "data_merged.columns"
   ]
  },
  {
   "cell_type": "markdown",
   "id": "15ebfe63-90c6-40c1-9451-3285f006a021",
   "metadata": {},
   "source": [
    "## Data clean and Analysis"
   ]
  },
  {
   "cell_type": "markdown",
   "id": "22ca4c6b-1c14-4c80-9078-55fdb83ce310",
   "metadata": {},
   "source": [
    "### Null values"
   ]
  },
  {
   "cell_type": "code",
   "execution_count": null,
   "id": "bb7add78-7028-458a-a2f0-01c0a9c177fa",
   "metadata": {
    "tags": []
   },
   "outputs": [],
   "source": [
    "data_merged.to_csv('data.csv', index=False)\n",
    "pd.isnull(data_merged).any()"
   ]
  },
  {
   "cell_type": "markdown",
   "id": "7f4e9b89-abb3-42d4-bba0-0699b6bf3b65",
   "metadata": {},
   "source": [
    "Data has no null values"
   ]
  },
  {
   "cell_type": "markdown",
   "id": "9fa93707-6f09-42cb-b701-6be1e089394a",
   "metadata": {},
   "source": [
    "### Min values each column"
   ]
  },
  {
   "cell_type": "code",
   "execution_count": null,
   "id": "3c1a966b-e18b-4b10-9042-467dfc13b48b",
   "metadata": {
    "tags": []
   },
   "outputs": [],
   "source": [
    "data_merged.min()"
   ]
  },
  {
   "cell_type": "markdown",
   "id": "79609740-2d9b-4da4-9315-7ebfae726192",
   "metadata": {},
   "source": [
    "### Max values each column"
   ]
  },
  {
   "cell_type": "code",
   "execution_count": null,
   "id": "d28ec29a-b430-4cd2-aa4e-59c7273c3d3a",
   "metadata": {
    "tags": []
   },
   "outputs": [],
   "source": [
    "data_merged.max()"
   ]
  },
  {
   "cell_type": "markdown",
   "id": "a6b50b30-47b3-4752-b8be-1c3a89a0ebaf",
   "metadata": {},
   "source": [
    "### Mean(average) values each column"
   ]
  },
  {
   "cell_type": "code",
   "execution_count": null,
   "id": "91c6fb0d-215b-46b6-bd8d-295d35471df0",
   "metadata": {
    "tags": []
   },
   "outputs": [],
   "source": [
    "data_merged.mean(numeric_only=True)"
   ]
  },
  {
   "cell_type": "markdown",
   "id": "c8c68b27-a03a-404e-a0bd-0d13b218889f",
   "metadata": {
    "tags": []
   },
   "source": [
    "## Data Info"
   ]
  },
  {
   "cell_type": "code",
   "execution_count": null,
   "id": "719656a9-4cca-40af-ab3d-4b2e3f0f2388",
   "metadata": {
    "tags": []
   },
   "outputs": [],
   "source": [
    "data_merged.info()"
   ]
  },
  {
   "cell_type": "markdown",
   "id": "1a695ed0-0fe9-4be4-99ca-d3e7c7fe68b6",
   "metadata": {},
   "source": [
    "## Dependent and Independent variables"
   ]
  },
  {
   "cell_type": "code",
   "execution_count": null,
   "id": "2b7ca41a-55aa-477e-bedd-8565054a4ae5",
   "metadata": {},
   "outputs": [],
   "source": [
    "y = DataFrame(data_merged, columns=['average_stock'])\n",
    "x = DataFrame(data_merged, columns=['replies_count', 'retweets_count', 'likes_count'])\n",
    "# y = np.log(y)\n",
    "\n",
    "# data = pd.get_dummies(data, columns=['job'], prefix='is')"
   ]
  },
  {
   "cell_type": "markdown",
   "id": "1c1b359e-879b-445c-890c-c98d6f993772",
   "metadata": {},
   "source": [
    "### Test Splits and Model Training"
   ]
  },
  {
   "cell_type": "code",
   "execution_count": null,
   "id": "00fa5a5d-8405-4110-ac87-d96d50b29f78",
   "metadata": {
    "tags": []
   },
   "outputs": [],
   "source": [
    "x_train, x_test, y_train, y_test = train_test_split(x, y, test_size=0.2,\n",
    "                                                    random_state=24)\n",
    "\n",
    "regr = LinearRegression()\n",
    "regr.fit(x_train, y_train)"
   ]
  },
  {
   "cell_type": "code",
   "execution_count": null,
   "id": "f4271e5f-68a8-4e5b-a9e4-09ce5f9efbdf",
   "metadata": {
    "tags": []
   },
   "outputs": [],
   "source": [
    "print(\"Intercept\", regr.intercept_)\n",
    "coef_data = regr.coef_.reshape(-1, 1)\n",
    "pd.DataFrame(data=coef_data, index=x_train.columns, columns=['coef'])"
   ]
  },
  {
   "cell_type": "code",
   "execution_count": null,
   "id": "a2fd3081-937d-4a13-bb1a-4c66f4ee885d",
   "metadata": {
    "tags": []
   },
   "outputs": [],
   "source": [
    "np.e**0.000040"
   ]
  },
  {
   "cell_type": "markdown",
   "id": "9d4a4425-d977-4cff-8679-4517a22a2479",
   "metadata": {},
   "source": [
    " From the coefficient above we clearly see that the reply count has the most significant impact on the stock price. But only very little."
   ]
  },
  {
   "cell_type": "markdown",
   "id": "f7e236d0-3888-4435-9f8d-fb61335a0210",
   "metadata": {},
   "source": [
    "### Model Accuracy with R-Squared"
   ]
  },
  {
   "cell_type": "code",
   "execution_count": null,
   "id": "2971c1bb-8762-4c9f-9c7c-e60a1fbb91ea",
   "metadata": {
    "tags": []
   },
   "outputs": [],
   "source": [
    "print('Trainng data r-squared:', regr.score(x_train, y_train))\n",
    "print('Test data r-squared:', regr.score(x_test, y_test))"
   ]
  },
  {
   "cell_type": "code",
   "execution_count": null,
   "id": "1cea40ec-cbe1-40c9-8240-260332db1a85",
   "metadata": {
    "tags": []
   },
   "outputs": [],
   "source": [
    "# from the r-squared results we see that our model are not the most accurate."
   ]
  },
  {
   "cell_type": "markdown",
   "id": "710a45f1-f3ec-43eb-8eb1-0fbcbcd4d631",
   "metadata": {},
   "source": [
    "## Test Non Accurate Model"
   ]
  },
  {
   "cell_type": "code",
   "execution_count": null,
   "id": "4a6b083a-857f-4917-ba55-bd53d8490646",
   "metadata": {
    "tags": []
   },
   "outputs": [],
   "source": [
    "input_tweet = {\n",
    "    'replies_count': 107,\n",
    "    'retweets_count': 60,\n",
    "    'likes_count': 2000,  \n",
    "}\n",
    "\n",
    "# Create a DataFrame with the input data\n",
    "input_df = pd.DataFrame(input_tweet, index=[0])\n",
    "\n",
    "\n",
    "# Use the model to make a prediction\n",
    "predicted_stock = regr.predict(input_df)\n",
    "\n",
    "print(f'Predicted Average Stock: {predicted_stock[0]}')"
   ]
  },
  {
   "cell_type": "markdown",
   "id": "bb070986-385d-4e7d-8fc0-ff70318a2156",
   "metadata": {},
   "source": [
    "## Refine Model and Data"
   ]
  },
  {
   "cell_type": "markdown",
   "id": "0090dea5-573d-4499-8dc7-23d19af00ec0",
   "metadata": {
    "tags": []
   },
   "source": [
    "### Test Data For Correlations\n"
   ]
  },
  {
   "cell_type": "code",
   "execution_count": null,
   "id": "6a848728-6af5-4add-8e70-25ce54bb1e9c",
   "metadata": {},
   "outputs": [],
   "source": [
    "plt.figure(figsize=(10,6))\n",
    "plt.hist(data_merged['average_stock'], bins=50, ec='black', color='gray')\n",
    "plt.xlabel(\"Price in $100000s\")\n",
    "plt.ylabel('Number of houses')\n",
    "plt.show()"
   ]
  },
  {
   "cell_type": "code",
   "execution_count": null,
   "id": "b21cda2d-5966-417c-a6f9-ed4c76d7f098",
   "metadata": {
    "tags": []
   },
   "outputs": [],
   "source": [
    "\n",
    "\n",
    "plt.figure(figsize=(10,6))\n",
    "plt.scatter(x[\"likes_count\"], y, alpha=0.3)\n",
    "plt.title('Likes vs Stocks')\n",
    "plt.show()\n"
   ]
  },
  {
   "cell_type": "code",
   "execution_count": null,
   "id": "1570fe02-bd0b-41f7-9814-852a53e64fd6",
   "metadata": {
    "tags": []
   },
   "outputs": [],
   "source": [
    "y_log = np.log(data_merged[\"average_stock\"])"
   ]
  },
  {
   "cell_type": "code",
   "execution_count": null,
   "id": "bbfa2e3f-aba1-459f-8121-b67669cfa528",
   "metadata": {
    "tags": []
   },
   "outputs": [],
   "source": [
    "y_log.skew()"
   ]
  },
  {
   "cell_type": "code",
   "execution_count": null,
   "id": "c498d6d2-7887-490f-92c8-bac8fe679589",
   "metadata": {
    "tags": []
   },
   "outputs": [],
   "source": [
    "y.skew()"
   ]
  },
  {
   "cell_type": "code",
   "execution_count": null,
   "id": "454d9d9d-5e9a-4042-b7e6-5161628ea800",
   "metadata": {
    "tags": []
   },
   "outputs": [],
   "source": [
    "plt.figure(figsize=(10,6))\n",
    "plt.hist(y_log, bins=50, ec='black', color='gray')\n",
    "plt.xlabel(\"Price in $100000s\")\n",
    "plt.ylabel('Number of houses')\n",
    "plt.show()"
   ]
  },
  {
   "cell_type": "code",
   "execution_count": null,
   "id": "0508c0a2-7ca0-4e19-983c-e35b69ad49a3",
   "metadata": {
    "tags": []
   },
   "outputs": [],
   "source": [
    "sns.lmplot(x=\"likes_count\", y=\"average_stock\", data=data_merged, scatter_kws={'alpha': 0.6}, line_kws={'color': 'darkred'})\n",
    "plt.show()"
   ]
  },
  {
   "cell_type": "code",
   "execution_count": null,
   "id": "5cadb470-9b36-4f7a-aca5-ea026c353de1",
   "metadata": {
    "tags": []
   },
   "outputs": [],
   "source": [
    "transformed_data = x\n",
    "transformed_data['LOG_Average_Stock'] = y_log\n",
    "sns.lmplot(x=\"replies_count\", y=\"LOG_Average_Stock\", data=transformed_data, scatter_kws={'alpha': 0.6}, line_kws={'color': 'darkred'})\n",
    "plt.show()"
   ]
  },
  {
   "cell_type": "markdown",
   "id": "5e3304be-c84d-4c7b-8bac-e905b0ca9d52",
   "metadata": {},
   "source": [
    "## Hyperparameters RandomizedSearchCV"
   ]
  },
  {
   "cell_type": "markdown",
   "id": "2154d868-00d2-47cd-a896-bf417e17826e",
   "metadata": {},
   "source": [
    " Random Search randomly samples combinations of hyperparameters, which can save time and computational resources. However, whether Random Search is better than Grid Search depends on your specific problem and dataset."
   ]
  },
  {
   "cell_type": "code",
   "execution_count": null,
   "id": "01866f73-e611-478f-b68b-0c41f9cf66bd",
   "metadata": {
    "tags": []
   },
   "outputs": [],
   "source": [
    "param_dist = {\n",
    "    'alpha': np.logspace(-3, 3, 100),  # Range of alpha values to test\n",
    "    'fit_intercept': [True, False],\n",
    "}\n",
    "\n",
    "ridge = Ridge()\n",
    "#n_jobs=-1 means using all cpu cores\n",
    "random_search = RandomizedSearchCV(ridge, param_distributions=param_dist, n_iter=200, scoring='neg_mean_squared_error', cv=5, n_jobs=-1)\n",
    "\n",
    "\n",
    "random_search.fit(x_train, y_train)\n"
   ]
  },
  {
   "cell_type": "markdown",
   "id": "f4a7a966-e2a8-47a1-a260-f4f0dfefce53",
   "metadata": {},
   "source": [
    "Alpha (Regularization Strength):\n",
    "\n",
    "Analogy: Think of alpha as a knob on a stereo system to control the volume. If you turn it to the left (low values of alpha), the volume (the influence of regularization) is low, meaning the model can capture more details, potentially overfitting. If you turn it to the right (high values of alpha), the volume (the influence of regularization) is high, meaning the model simplifies and smooths out its predictions to avoid overfitting.\n",
    "Fit Intercept:\n",
    "\n",
    "Analogy: Imagine you are fitting a line through data points. If 'fit_intercept' is 'True,' it's like allowing the line to move up or down to best fit the data, similar to adjusting the line's intercept. If 'fit_intercept' is 'False,' it's like forcing the line to go through the origin (0,0) and not allowing it to shift up or down.\n",
    "Normalize:\n",
    "\n",
    "Analogy: Consider a recipe that requires you to add salt to a dish. If 'normalize' is 'True,' it's like ensuring the amount of salt you add is proportional to the other ingredients' quantities, maintaining a balance. If 'normalize' is 'False,' it means you add a fixed amount of salt, regardless of the other ingredient quantities. Normalizing helps maintain consistent scaling of the features, which can be important for some algorithms."
   ]
  },
  {
   "cell_type": "code",
   "execution_count": null,
   "id": "7ff0897c-3ce1-4683-b137-0d756d70cd8d",
   "metadata": {
    "tags": []
   },
   "outputs": [],
   "source": [
    "# Get the best parameters\n",
    "best_params = random_search.best_params_\n",
    "\n",
    "# Get the best estimator (model)\n",
    "best_model = random_search.best_estimator_\n",
    "\n",
    "# You can then evaluate the best model on the test set and use it for predictions\n",
    "y_pred = best_model.predict(x_test)"
   ]
  },
  {
   "cell_type": "code",
   "execution_count": null,
   "id": "313f4570-bf97-41fa-83d5-103bdf92cb3c",
   "metadata": {
    "tags": []
   },
   "outputs": [],
   "source": [
    "print(\"best params: \", best_params)\n",
    "print(\"best model: \", best_model)\n",
    "print(\"y prediction: \", y_pred)\n"
   ]
  },
  {
   "cell_type": "markdown",
   "id": "4c540798-03a7-4379-a9af-a178fa779393",
   "metadata": {},
   "source": [
    "### Model Evaluation"
   ]
  },
  {
   "cell_type": "code",
   "execution_count": null,
   "id": "0b2c1b42-d517-46e1-9bb6-c9af741cf812",
   "metadata": {
    "tags": []
   },
   "outputs": [],
   "source": [
    "mae = mean_absolute_error(y_test, y_pred)\n",
    "mse = mean_squared_error(y_test, y_pred)\n",
    "r2_test = r2_score(y_test, y_pred)\n",
    "\n",
    "# Print evaluation metrics\n",
    "print(f'MAE: {mae}')\n",
    "print(f'MSE: {mse}')\n",
    "print(f'R-squared_Test: {r2_test}')\n",
    "\n",
    "# Model interpretation\n",
    "coefficients = best_model.coef_\n",
    "print('Coefficients:', coefficients)\n",
    "new = best_model.coef_.reshape(-1, 1)\n",
    "pd.DataFrame(data=new, index=x_train.columns, columns=['coef'])"
   ]
  },
  {
   "cell_type": "code",
   "execution_count": null,
   "id": "a20d42c0-3cf7-4404-bdbc-4241cc7326ba",
   "metadata": {},
   "outputs": [],
   "source": []
  }
 ],
 "metadata": {
  "kernelspec": {
   "display_name": "Python 3 (ipykernel)",
   "language": "python",
   "name": "python3"
  },
  "language_info": {
   "codemirror_mode": {
    "name": "ipython",
    "version": 3
   },
   "file_extension": ".py",
   "mimetype": "text/x-python",
   "name": "python",
   "nbconvert_exporter": "python",
   "pygments_lexer": "ipython3",
   "version": "3.11.3"
  }
 },
 "nbformat": 4,
 "nbformat_minor": 5
}
